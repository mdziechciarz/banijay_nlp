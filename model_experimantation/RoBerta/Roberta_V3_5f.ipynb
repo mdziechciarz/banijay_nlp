{
 "cells": [
  {
   "cell_type": "markdown",
   "id": "e3860487-659f-4ba5-95ec-64072410d2a8",
   "metadata": {},
   "source": [
    "## Importing important libraries"
   ]
  },
  {
   "cell_type": "code",
   "execution_count": 1,
   "id": "4d60ff81-1bf9-4d08-9789-1dfa121c3268",
   "metadata": {},
   "outputs": [
    {
     "name": "stderr",
     "output_type": "stream",
     "text": [
      "2024-03-28 09:10:26.359371: E external/local_xla/xla/stream_executor/cuda/cuda_dnn.cc:9261] Unable to register cuDNN factory: Attempting to register factory for plugin cuDNN when one has already been registered\n",
      "2024-03-28 09:10:26.359430: E external/local_xla/xla/stream_executor/cuda/cuda_fft.cc:607] Unable to register cuFFT factory: Attempting to register factory for plugin cuFFT when one has already been registered\n",
      "2024-03-28 09:10:26.360437: E external/local_xla/xla/stream_executor/cuda/cuda_blas.cc:1515] Unable to register cuBLAS factory: Attempting to register factory for plugin cuBLAS when one has already been registered\n",
      "2024-03-28 09:10:26.365756: I tensorflow/core/platform/cpu_feature_guard.cc:182] This TensorFlow binary is optimized to use available CPU instructions in performance-critical operations.\n",
      "To enable the following instructions: AVX2 FMA, in other operations, rebuild TensorFlow with the appropriate compiler flags.\n"
     ]
    }
   ],
   "source": [
    "import os\n",
    "import pandas as pd\n",
    "from sklearn.model_selection import train_test_split\n",
    "from sklearn.preprocessing import LabelEncoder, StandardScaler\n",
    "import numpy as np\n",
    "import tensorflow as tf\n",
    "from tensorflow.keras.preprocessing.sequence import pad_sequences\n",
    "from transformers import RobertaTokenizer, TFRobertaForSequenceClassification, RobertaConfig\n",
    "import tensorflow.keras.backend as K\n",
    "from sklearn.metrics import confusion_matrix\n",
    "import seaborn as sns\n",
    "import matplotlib.pyplot as plt\n",
    "from tensorflow.keras.callbacks import EarlyStopping, ReduceLROnPlateau, ModelCheckpoint\n",
    "import joblib\n",
    "from tensorflow.keras.layers import Input, Dense, Dropout, Concatenate\n",
    "from tensorflow.keras.models import Model\n",
    "from sentence_transformers import SentenceTransformer\n",
    "from sklearn.cluster import KMeans\n",
    "from sklearn.cluster import MiniBatchKMeans\n",
    "import re\n",
    "from nltk.tokenize import sent_tokenize\n",
    "from sklearn.utils.class_weight import compute_class_weight"
   ]
  },
  {
   "cell_type": "markdown",
   "id": "531bfce8-f56d-42a6-830f-27adff87b0e6",
   "metadata": {},
   "source": [
    "## Hyperparameters \n",
    "\n",
    "Easy and straightforward hyperparameter tuning"
   ]
  },
  {
   "cell_type": "code",
   "execution_count": 2,
   "id": "75c067a8-3c55-4677-9bae-9fe0b9738f1e",
   "metadata": {},
   "outputs": [],
   "source": [
    "# Hyperparameters and paths\n",
    "BATCH_SIZE = 64\n",
    "LEARNING_RATE = 2e-5\n",
    "EPOCHS = 30\n",
    "TEST_SIZE = 0.18\n",
    "RANDOM_STATE = 42\n",
    "MAX_LEN = 128  # Maximum sequence length for tokenization\n",
    "NUM_LABELS = 6  # Update based on your dataset\n",
    "\n",
    "base_save_path = \"Roberta_v3_5f_checkpoints\"\n",
    "checkpoint_path = \"Roberta_v3_5f_checkpoints/cp-{epoch:04d}.ckpt\"\n",
    "\n",
    "# Load and preprocess the dataset\n",
    "file_path = 'emotion_data_merged_4.csv'  # Update this path\n",
    "data = pd.read_csv(file_path)"
   ]
  },
  {
   "cell_type": "markdown",
   "id": "3dbd45f7-81a7-4ef3-b96a-c5aaff50ed63",
   "metadata": {},
   "source": [
    "## F1 Metric and tokenizer function"
   ]
  },
  {
   "cell_type": "code",
   "execution_count": 3,
   "id": "5739e736-f088-43ec-8357-3a1f569235d0",
   "metadata": {},
   "outputs": [],
   "source": [
    "def f1_metric(y_true, y_pred):\n",
    "    def recall(y_true, y_pred):\n",
    "        true_positives = K.sum(K.round(K.clip(y_true * y_pred, 0, 1)))\n",
    "        possible_positives = K.sum(K.round(K.clip(y_true, 0, 1)))\n",
    "        recall = true_positives / (possible_positives + K.epsilon())\n",
    "        return recall\n",
    "\n",
    "    def precision(y_true, y_pred):\n",
    "        true_positives = K.sum(K.round(K.clip(y_true * y_pred, 0, 1)))\n",
    "        predicted_positives = K.sum(K.round(K.clip(y_pred, 0, 1)))\n",
    "        precision = true_positives / (predicted_positives + K.epsilon())\n",
    "        return precision\n",
    "\n",
    "    precision = precision(y_true, y_pred)\n",
    "    recall = recall(y_true, y_pred)\n",
    "    return 2*((precision*recall)/(precision+recall+K.epsilon()))"
   ]
  },
  {
   "cell_type": "markdown",
   "id": "856fb3dc-2580-4382-b82a-59e7face147a",
   "metadata": {},
   "source": [
    "## Setup and Data Preparation\n",
    "\n",
    "Loading the dataset, preprocessing the text, and preparing the data for the model."
   ]
  },
  {
   "cell_type": "code",
   "execution_count": 4,
   "id": "b81bd1f1-760f-4eb7-8264-a203f3ae9b1c",
   "metadata": {},
   "outputs": [],
   "source": [
    "# Function to limit the number of rows per emotion class\n",
    "def limit_rows(group):\n",
    "    return group.sample(n=min(len(group), 59285), random_state=42)"
   ]
  },
  {
   "cell_type": "code",
   "execution_count": 5,
   "id": "5bc509cf-57d3-4ae9-9d8d-36f9fbdd3963",
   "metadata": {},
   "outputs": [
    {
     "name": "stderr",
     "output_type": "stream",
     "text": [
      "/tmp/ipykernel_4070350/3510343987.py:4: DeprecationWarning: DataFrameGroupBy.apply operated on the grouping columns. This behavior is deprecated, and in a future version of pandas the grouping columns will be excluded from the operation. Either pass `include_groups=False` to exclude the groupings or explicitly select the grouping columns after groupby to silence this warning.\n",
      "  data = data.groupby('emotion', group_keys=False).apply(limit_rows)\n"
     ]
    }
   ],
   "source": [
    "data = data.dropna(subset=['emotion']).query(\"emotion != 'neutral'\")\n",
    "data = data.drop_duplicates()\n",
    "# Group by 'emotion' and apply the limiting function\n",
    "data = data.groupby('emotion', group_keys=False).apply(limit_rows)"
   ]
  },
  {
   "cell_type": "code",
   "execution_count": 6,
   "id": "018c8013-6f18-4f7a-b2d6-56fc3a15e18a",
   "metadata": {},
   "outputs": [],
   "source": [
    "# Expanded contraction mapping\n",
    "contractions_dict = {\n",
    "    \"i'm\": \"i am\", \"im\": \"i am\", \"i m\": \"i am\",\n",
    "    \"you're\": \"you are\", \"youre\": \"you are\",\n",
    "    \"he's\": \"he is\", \"hes\": \"he is\",\n",
    "    \"she's\": \"she is\", \"shes\": \"she is\",\n",
    "    \"it's\": \"it is\", \"its\": \"it is\",\n",
    "    \"we're\": \"we are\", \"were\": \"we are\",\n",
    "    \"they're\": \"they are\", \"theyre\": \"they are\",\n",
    "    \"that's\": \"that is\", \"thats\": \"that is\", \"that s\": \"that is\",\n",
    "    \"that'd\": \"that would\", \"thatd\": \"that would\",\n",
    "    \"who's\": \"who is\", \"whos\": \"who is\",\n",
    "    \"what's\": \"what is\", \"whats\": \"what is\",\n",
    "    \"where's\": \"where is\", \"wheres\": \"where is\",\n",
    "    \"when's\": \"when is\", \"whens\": \"when is\",\n",
    "    \"why's\": \"why is\", \"whys\": \"why is\",\n",
    "    \"how's\": \"how is\", \"hows\": \"how is\",\n",
    "    \"ain't\": \"am not\", \"aint\": \"am not\",\n",
    "    \"aren't\": \"are not\", \"arent\": \"are not\",\n",
    "    \"isn't\": \"is not\", \"isnt\": \"is not\",\n",
    "    \"wasn't\": \"was not\", \"wasnt\": \"was not\",\n",
    "    \"weren't\": \"were not\", \"werent\": \"were not\",\n",
    "    \"haven't\": \"have not\", \"havent\": \"have not\",\n",
    "    \"hasn't\": \"has not\", \"hasnt\": \"has not\",\n",
    "    \"hadn't\": \"had not\", \"hadnt\": \"had not\",\n",
    "    \"won't\": \"will not\", \"wont\": \"will not\",\n",
    "    \"wouldn't\": \"would not\", \"wouldnt\": \"would not\",\n",
    "    \"don't\": \"do not\", \"dont\": \"do not\",\n",
    "    \"doesn't\": \"does not\", \"doesnt\": \"does not\",\n",
    "    \"didn't\": \"did not\", \"didnt\": \"did not\",\n",
    "    \"can't\": \"cannot\", \"cant\": \"cannot\",\n",
    "    \"couldn't\": \"could not\", \"couldnt\": \"could not\",\n",
    "    \"shouldn't\": \"should not\", \"shouldnt\": \"should not\",\n",
    "    \"mightn't\": \"might not\", \"mightnt\": \"might not\",\n",
    "    \"mustn't\": \"must not\", \"mustnt\": \"must not\",\n",
    "}\n",
    "\n",
    "# Create a regex pattern for contractions, enabling case-insensitive matching\n",
    "contraction_patterns = r'\\b(' + '|'.join([re.escape(k) for k in contractions_dict.keys()]) + r')\\b'\n",
    "contractions_re = re.compile(contraction_patterns, re.IGNORECASE)"
   ]
  },
  {
   "cell_type": "code",
   "execution_count": 7,
   "id": "d1b843f9-3ac9-4e87-a816-d13a8a44105c",
   "metadata": {},
   "outputs": [],
   "source": [
    "def expand_contractions(text, contractions_dict=contractions_dict):\n",
    "    def replace(match):\n",
    "        # Fetch the correct replacement string from the dictionary using lowercase match\n",
    "        return contractions_dict[match.group().lower()]\n",
    "    # Use the sub method to replace all matches\n",
    "    expanded_text = contractions_re.sub(replace, text)\n",
    "    return expanded_text\n",
    "\n",
    "def clean_text(text):\n",
    "    text = text.strip()  # Strip leading/trailing whitespace\n",
    "    text = expand_contractions(text)  # Expand contractions\n",
    "    text = re.sub(r'http\\S+|www\\S+|https\\S+', '', text, flags=re.MULTILINE)  # Remove URLs\n",
    "    text = re.sub(r'\\@\\w+|\\#\\w+', '', text)  # Remove mentions and hashtags\n",
    "    text = re.sub(r'[\\U00010000-\\U0010ffff]', '', text)  # Remove emoticons and unicode characters\n",
    "    \n",
    "    # Split text into sentences, strip each sentence, then join back with a space\n",
    "    sentences = sent_tokenize(text)\n",
    "    cleaned_sentences = [sentence.strip() for sentence in sentences]\n",
    "    text = ' '.join(cleaned_sentences)\n",
    "    \n",
    "    return text"
   ]
  },
  {
   "cell_type": "code",
   "execution_count": 8,
   "id": "b5ab24af-80cc-4730-86fa-96a3fae730ff",
   "metadata": {},
   "outputs": [
    {
     "name": "stdout",
     "output_type": "stream",
     "text": [
      "Preview of the dataset:\n",
      "                                                 sentence emotion\n",
      "64376   Fine, but I’ll have you know that once I taugh...   anger\n",
      "258476                            i was feeling irritated   anger\n",
      "155604  i couldn t keep the feelings inside and my fri...   anger\n",
      "287956  i know he is trying to help but it just makes ...   anger\n",
      "292299  i am feeling much less rebellious against anti...   anger\n",
      "\n",
      "Summary statistics of the dataset:\n",
      "                                           sentence    emotion\n",
      "count                                        283522     283522\n",
      "unique                                       283506          6\n",
      "top     Ahh. Ooh, is this a ah, is this a bad time?  happiness\n",
      "freq                                              2      59222\n",
      "\n",
      "Information about columns in the dataset:\n",
      "<class 'pandas.core.frame.DataFrame'>\n",
      "Index: 283522 entries, 64376 to 617757\n",
      "Data columns (total 2 columns):\n",
      " #   Column    Non-Null Count   Dtype \n",
      "---  ------    --------------   ----- \n",
      " 0   sentence  283522 non-null  object\n",
      " 1   emotion   283522 non-null  object\n",
      "dtypes: object(2)\n",
      "memory usage: 6.5+ MB\n",
      "None\n"
     ]
    }
   ],
   "source": [
    "data['sentence'] = data['sentence'].apply(clean_text)\n",
    "\n",
    "# Drop duplicates\n",
    "data = data.drop_duplicates()\n",
    "\n",
    "# Overview of the dataset\n",
    "print(\"Preview of the dataset:\")\n",
    "print(data.head())\n",
    "\n",
    "print(\"\\nSummary statistics of the dataset:\")\n",
    "print(data.describe())\n",
    "\n",
    "print(\"\\nInformation about columns in the dataset:\")\n",
    "print(data.info())\n",
    "\n",
    "# Feature extraction\n",
    "data['ends_with_exclamation'] = data['sentence'].str.endswith('!').astype(int)\n",
    "data['ends_with_question'] = data['sentence'].str.endswith('?').astype(int)\n",
    "data['ends_with_period'] = data['sentence'].str.endswith('.').astype(int)"
   ]
  },
  {
   "cell_type": "code",
   "execution_count": 9,
   "id": "c2080194-c76d-4b3e-994d-cb12e911461b",
   "metadata": {},
   "outputs": [
    {
     "data": {
      "image/png": "[encoded data removed]",
      "text/plain": [
       "<Figure size 1000x800 with 1 Axes>"
      ]
     },
     "metadata": {},
     "output_type": "display_data"
    },
    {
     "name": "stdout",
     "output_type": "stream",
     "text": [
      "Number of sentences in the 'anger' class: 58874\n"
     ]
    }
   ],
   "source": [
    "# Count the number of sentences for each emotion\n",
    "emotion_counts = data['emotion'].value_counts()\n",
    "\n",
    "# Plotting the pie chart for sentence distribution per class\n",
    "plt.figure(figsize=(10, 8))\n",
    "plt.pie(emotion_counts, labels=emotion_counts.index, autopct='%1.1f%%', startangle=140)\n",
    "plt.title('Sentence Distribution per Emotion Class')\n",
    "plt.show()\n",
    "# Count the number of sentences for the 'anger' emotion\n",
    "anger_count = data[data['emotion'] == 'anger'].shape[0]\n",
    "\n",
    "print(f\"Number of sentences in the 'anger' class: {anger_count}\")"
   ]
  },
  {
   "cell_type": "code",
   "execution_count": 10,
   "id": "933a3b4f-6286-4f86-989f-70afe4a6848e",
   "metadata": {},
   "outputs": [
    {
     "data": {
      "text/html": [
       "<div>\n",
       "<style scoped>\n",
       "    .dataframe tbody tr th:only-of-type {\n",
       "        vertical-align: middle;\n",
       "    }\n",
       "\n",
       "    .dataframe tbody tr th {\n",
       "        vertical-align: top;\n",
       "    }\n",
       "\n",
       "    .dataframe thead th {\n",
       "        text-align: right;\n",
       "    }\n",
       "</style>\n",
       "<table border=\"1\" class=\"dataframe\">\n",
       "  <thead>\n",
       "    <tr style=\"text-align: right;\">\n",
       "      <th></th>\n",
       "      <th>sentence</th>\n",
       "      <th>emotion</th>\n",
       "      <th>ends_with_exclamation</th>\n",
       "      <th>ends_with_question</th>\n",
       "      <th>ends_with_period</th>\n",
       "    </tr>\n",
       "  </thead>\n",
       "  <tbody>\n",
       "    <tr>\n",
       "      <th>64376</th>\n",
       "      <td>Fine, but I’ll have you know that once I taugh...</td>\n",
       "      <td>anger</td>\n",
       "      <td>0</td>\n",
       "      <td>0</td>\n",
       "      <td>1</td>\n",
       "    </tr>\n",
       "    <tr>\n",
       "      <th>258476</th>\n",
       "      <td>i was feeling irritated</td>\n",
       "      <td>anger</td>\n",
       "      <td>0</td>\n",
       "      <td>0</td>\n",
       "      <td>0</td>\n",
       "    </tr>\n",
       "    <tr>\n",
       "      <th>155604</th>\n",
       "      <td>i couldn t keep the feelings inside and my fri...</td>\n",
       "      <td>anger</td>\n",
       "      <td>0</td>\n",
       "      <td>0</td>\n",
       "      <td>0</td>\n",
       "    </tr>\n",
       "    <tr>\n",
       "      <th>287956</th>\n",
       "      <td>i know he is trying to help but it just makes ...</td>\n",
       "      <td>anger</td>\n",
       "      <td>0</td>\n",
       "      <td>0</td>\n",
       "      <td>0</td>\n",
       "    </tr>\n",
       "    <tr>\n",
       "      <th>292299</th>\n",
       "      <td>i am feeling much less rebellious against anti...</td>\n",
       "      <td>anger</td>\n",
       "      <td>0</td>\n",
       "      <td>0</td>\n",
       "      <td>0</td>\n",
       "    </tr>\n",
       "  </tbody>\n",
       "</table>\n",
       "</div>"
      ],
      "text/plain": [
       "                                                 sentence emotion  \\\n",
       "64376   Fine, but I’ll have you know that once I taugh...   anger   \n",
       "258476                            i was feeling irritated   anger   \n",
       "155604  i couldn t keep the feelings inside and my fri...   anger   \n",
       "287956  i know he is trying to help but it just makes ...   anger   \n",
       "292299  i am feeling much less rebellious against anti...   anger   \n",
       "\n",
       "        ends_with_exclamation  ends_with_question  ends_with_period  \n",
       "64376                       0                   0                 1  \n",
       "258476                      0                   0                 0  \n",
       "155604                      0                   0                 0  \n",
       "287956                      0                   0                 0  \n",
       "292299                      0                   0                 0  "
      ]
     },
     "execution_count": 10,
     "metadata": {},
     "output_type": "execute_result"
    }
   ],
   "source": [
    "data.head()"
   ]
  },
  {
   "cell_type": "code",
   "execution_count": 11,
   "id": "8faf95d2-c210-4fd8-baec-4afda58a73d6",
   "metadata": {},
   "outputs": [
    {
     "name": "stderr",
     "output_type": "stream",
     "text": [
      "INFO: Load pretrained SentenceTransformer: all-MiniLM-L6-v2\n",
      "INFO: Use pytorch device_name: cuda\n"
     ]
    },
    {
     "data": {
      "application/vnd.jupyter.widget-view+json": {
       "model_id": "48be399a1f254522b3e5aa82d9dfb672",
       "version_major": 2,
       "version_minor": 0
      },
      "text/plain": [
       "Batches:   0%|          | 0/1595 [00:00<?, ?it/s]"
      ]
     },
     "metadata": {},
     "output_type": "display_data"
    },
    {
     "name": "stderr",
     "output_type": "stream",
     "text": [
      "OpenBLAS warning: precompiled NUM_THREADS exceeded, adding auxiliary array for thread metadata.\n"
     ]
    },
    {
     "name": "stdout",
     "output_type": "stream",
     "text": [
      "Final validation set size: 51034 sentences\n",
      "Desired validation set size: 51033 sentences\n"
     ]
    }
   ],
   "source": [
    "# Encode the labels\n",
    "label_encoder = LabelEncoder()\n",
    "data['emotion_encoded'] = label_encoder.fit_transform(data['emotion'])\n",
    "\n",
    "# Initial train-validation split\n",
    "train_data, initial_val_data = train_test_split(data, test_size=TEST_SIZE, random_state=RANDOM_STATE, stratify=data['emotion_encoded'])\n",
    "\n",
    "# Generate embeddings for the validation sentences\n",
    "model = SentenceTransformer('all-MiniLM-L6-v2')\n",
    "val_embeddings = model.encode(initial_val_data['sentence'].values)\n",
    "\n",
    "# Clustering\n",
    "kmeans = MiniBatchKMeans(n_clusters=int(len(initial_val_data) * TEST_SIZE / 10), random_state=RANDOM_STATE)\n",
    "val_cluster_labels = kmeans.fit_predict(val_embeddings)\n",
    "initial_val_data['cluster_label'] = val_cluster_labels\n",
    "\n",
    "# Sample from clusters to form the final validation set\n",
    "# Instead of sampling a fixed number from each cluster, we aim to maintain the overall desired validation set size\n",
    "desired_val_size = int(len(data) * TEST_SIZE)  # This is the target size for the validation set\n",
    "\n",
    "# Calculate the sampling ratio for each cluster to contribute to the final validation set\n",
    "cluster_counts = initial_val_data['cluster_label'].value_counts()\n",
    "sampling_ratios = cluster_counts / cluster_counts.sum()\n",
    "\n",
    "# Calculate the number of samples to take from each cluster\n",
    "samples_per_cluster = (sampling_ratios * desired_val_size).round().astype(int)\n",
    "\n",
    "# Sample from each cluster\n",
    "val_data_list = []\n",
    "for cluster_label, n_samples in samples_per_cluster.items():\n",
    "    cluster_data = initial_val_data[initial_val_data['cluster_label'] == cluster_label]\n",
    "    sampled_data = cluster_data.sample(n=min(n_samples, len(cluster_data)), random_state=RANDOM_STATE)\n",
    "    val_data_list.append(sampled_data)\n",
    "\n",
    "# Concatenate all sampled data to form the final validation set\n",
    "val_data = pd.concat(val_data_list).reset_index(drop=True)\n",
    "\n",
    "# Ensure final validation set size is close to desired validation set size\n",
    "print(f\"Final validation set size: {len(val_data)} sentences\")\n",
    "print(f\"Desired validation set size: {desired_val_size} sentences\")"
   ]
  },
  {
   "cell_type": "code",
   "execution_count": 12,
   "id": "a42bc8f3-0fe3-4751-a063-3d5f61aebaac",
   "metadata": {},
   "outputs": [],
   "source": [
    "# Initialize tokenizer\n",
    "tokenizer = RobertaTokenizer.from_pretrained('roberta-base')\n",
    "\n",
    "# Function to encode text data using the tokenizer\n",
    "def encode_sentences(dataframe):\n",
    "    input_ids = []\n",
    "    attention_masks = []\n",
    "\n",
    "    for sentence in dataframe['sentence']:\n",
    "        encoded_dict = tokenizer.encode_plus(\n",
    "            sentence,                      # Sentence to encode.\n",
    "            add_special_tokens=True,       # Add '[CLS]' and '[SEP]'.\n",
    "            max_length=MAX_LEN,            # Pad & truncate all sentences.\n",
    "            padding='max_length',\n",
    "            return_attention_mask=True,    # Construct attention masks.\n",
    "            return_tensors='tf',           # Return TensorFlow tensors.\n",
    "            truncation=True                # Ensure truncation is explicitly enabled.\n",
    "        )\n",
    "        \n",
    "        input_ids.append(encoded_dict['input_ids'])\n",
    "        attention_masks.append(encoded_dict['attention_mask'])\n",
    "\n",
    "    # Convert lists to tensors. Ensure the output is a single tensor for each.\n",
    "    input_ids = tf.concat(input_ids, axis=0)\n",
    "    attention_masks = tf.concat(attention_masks, axis=0)\n",
    "    \n",
    "    return input_ids, attention_masks"
   ]
  },
  {
   "cell_type": "code",
   "execution_count": 13,
   "id": "d9b45bc9-7068-40e0-9941-c10a592d94f2",
   "metadata": {},
   "outputs": [
    {
     "name": "stderr",
     "output_type": "stream",
     "text": [
      "2024-03-28 09:11:15.772897: W tensorflow/core/common_runtime/gpu/gpu_bfc_allocator.cc:47] Overriding orig_value setting because the TF_FORCE_GPU_ALLOW_GROWTH environment variable is set. Original config value was 0.\n",
      "2024-03-28 09:11:15.773216: I tensorflow/core/common_runtime/gpu/gpu_device.cc:1929] Created device /job:localhost/replica:0/task:0/device:GPU:0 with 21916 MB memory:  -> device: 0, name: NVIDIA RTX A6000, pci bus id: 0000:01:00.0, compute capability: 8.6\n"
     ]
    }
   ],
   "source": [
    "# Tokenize the text for both training and validation sets\n",
    "train_input_ids, train_attention_masks = encode_sentences(train_data)\n",
    "val_input_ids, val_attention_masks = encode_sentences(val_data)\n",
    "\n",
    "# Prepare numerical features\n",
    "numerical_features_train = train_data[['ends_with_exclamation', 'ends_with_question', 'ends_with_period']]\n",
    "numerical_features_val = val_data[['ends_with_exclamation', 'ends_with_question', 'ends_with_period']]\n",
    "\n",
    "# Standardize the numerical features\n",
    "scaler = StandardScaler()\n",
    "numerical_features_train = scaler.fit_transform(numerical_features_train)\n",
    "numerical_features_val = scaler.transform(numerical_features_val)\n",
    "\n",
    "# Prepare labels\n",
    "train_labels = train_data['emotion_encoded'].values\n",
    "val_labels = val_data['emotion_encoded'].values"
   ]
  },
  {
   "cell_type": "markdown",
   "id": "867f7842-147f-4d19-b4cd-e33146178208",
   "metadata": {},
   "source": [
    "## Model training\n",
    "\n",
    "Setting up the RoBERTa model, defining the training loop, and initiating the training process."
   ]
  },
  {
   "cell_type": "code",
   "execution_count": 14,
   "id": "d570dd00-ea60-41e6-8842-260e51f860ae",
   "metadata": {},
   "outputs": [],
   "source": [
    "# RoBERTa text input model\n",
    "def build_model(base_model, num_numerical_features, num_labels):\n",
    "    # Inputs\n",
    "    text_input = Input(shape=(MAX_LEN,), dtype='int32', name='text_input')\n",
    "    mask_input = Input(shape=(MAX_LEN,), dtype='int32', name='mask_input')\n",
    "    numerical_input = Input(shape=(num_numerical_features,), name='numerical_input')\n",
    "\n",
    "    # RoBERTa model\n",
    "    roberta_output = base_model([text_input, mask_input])[0][:, 0, :]  # Use the pooled output\n",
    "\n",
    "    # Concatenate RoBERTa output with numerical features\n",
    "    concatenated = Concatenate()([roberta_output, numerical_input])\n",
    "\n",
    "    # Further dense layers can be added here\n",
    "    x = Dense(64, activation='relu')(concatenated)\n",
    "    x = Dropout(0.2)(x)\n",
    "    output = Dense(num_labels, activation='softmax')(x)\n",
    "\n",
    "    model = Model(inputs=[text_input, mask_input, numerical_input], outputs=output)\n",
    "    \n",
    "    return model"
   ]
  },
  {
   "cell_type": "code",
   "execution_count": 15,
   "id": "15a5667f-14c0-4814-94c6-61bcd77e9345",
   "metadata": {},
   "outputs": [],
   "source": [
    "import tensorflow as tf\n",
    "\n",
    "class WarmUpAndExponentialDecaySchedule(tf.keras.optimizers.schedules.LearningRateSchedule):\n",
    "    def __init__(self, initial_learning_rate, decay_steps, decay_rate, warmup_steps):\n",
    "        super(WarmUpAndExponentialDecaySchedule, self).__init__()\n",
    "        \n",
    "        self.initial_learning_rate = initial_learning_rate\n",
    "        self.decay_steps = decay_steps\n",
    "        self.decay_rate = decay_rate\n",
    "        self.warmup_steps = warmup_steps\n",
    "\n",
    "    def __call__(self, step):\n",
    "        # Linear warmup\n",
    "        warmup_lr = self.initial_learning_rate * (step / self.warmup_steps)\n",
    "        # Exponential decay\n",
    "        decay_lr = self.initial_learning_rate * self.decay_rate ** (step / self.decay_steps)\n",
    "        \n",
    "        # Apply warmup phase for the first `warmup_steps` steps\n",
    "        # Then apply exponential decay\n",
    "        learning_rate = tf.where(step < self.warmup_steps, warmup_lr, decay_lr)\n",
    "        return learning_rate\n",
    "\n",
    "# parameters\n",
    "initial_learning_rate = LEARNING_RATE\n",
    "decay_steps = 10000\n",
    "decay_rate = 0.9\n",
    "warmup_steps = 1000\n",
    "\n",
    "lr_schedule = WarmUpAndExponentialDecaySchedule(initial_learning_rate, decay_steps, decay_rate, warmup_steps)\n"
   ]
  },
  {
   "cell_type": "code",
   "execution_count": 16,
   "id": "b54d6213-14af-4fbc-baa8-d3d6654e4171",
   "metadata": {},
   "outputs": [
    {
     "name": "stderr",
     "output_type": "stream",
     "text": [
      "Some weights of the PyTorch model were not used when initializing the TF 2.0 model TFRobertaForSequenceClassification: ['roberta.embeddings.position_ids']\n",
      "- This IS expected if you are initializing TFRobertaForSequenceClassification from a PyTorch model trained on another task or with another architecture (e.g. initializing a TFBertForSequenceClassification model from a BertForPreTraining model).\n",
      "- This IS NOT expected if you are initializing TFRobertaForSequenceClassification from a PyTorch model that you expect to be exactly identical (e.g. initializing a TFBertForSequenceClassification model from a BertForSequenceClassification model).\n",
      "Some weights or buffers of the TF 2.0 model TFRobertaForSequenceClassification were not initialized from the PyTorch model and are newly initialized: ['classifier.dense.weight', 'classifier.dense.bias', 'classifier.out_proj.weight', 'classifier.out_proj.bias']\n",
      "You should probably TRAIN this model on a down-stream task to be able to use it for predictions and inference.\n"
     ]
    }
   ],
   "source": [
    "# Load the pre-trained RoBERTa model\n",
    "roberta_model = TFRobertaForSequenceClassification.from_pretrained('roberta-base', num_labels=NUM_LABELS)\n",
    "\n",
    "# Build the custom model\n",
    "model = build_model(roberta_model.roberta, 3, NUM_LABELS)  # 3 numerical features\n",
    "\n",
    "# Compile the model\n",
    "optimizer = tf.keras.optimizers.Adam(learning_rate=LEARNING_RATE)\n",
    "loss = tf.keras.losses.SparseCategoricalCrossentropy()\n",
    "metrics = ['accuracy', f1_metric]  # Add other metrics as needed\n",
    "\n",
    "model.compile(optimizer=tf.keras.optimizers.Adam(learning_rate=lr_schedule),\n",
    "              loss=tf.keras.losses.SparseCategoricalCrossentropy(from_logits=True),\n",
    "              metrics=['accuracy', f1_metric])\n"
   ]
  },
  {
   "cell_type": "code",
   "execution_count": 17,
   "id": "5a9193d4-8db2-4b46-8034-0d403b5f994d",
   "metadata": {},
   "outputs": [],
   "source": [
    "early_stopping = tf.keras.callbacks.EarlyStopping(\n",
    "    monitor='val_loss',  # Monitor validation accuracy\n",
    "    patience=5,             # Number of epochs with no improvement after which training will be stopped\n",
    "    verbose=1,              # Log when training is stopped\n",
    "    restore_best_weights=True, # Restore model weights from the epoch with the best value of the monitored quantity\n",
    "    mode='min'\n",
    ")"
   ]
  },
  {
   "cell_type": "code",
   "execution_count": 18,
   "id": "9f36a529-e4ed-4115-b45c-b44cc3f9910a",
   "metadata": {},
   "outputs": [],
   "source": [
    "reduce_lr = tf.keras.callbacks.ReduceLROnPlateau(\n",
    "    monitor='val_loss',     # Metric to monitor\n",
    "    factor=0.1,             # Factor by which the learning rate will be reduced. new_lr = lr * factor\n",
    "    patience=3,             # Number of epochs with no improvement after which learning rate will be reducedt\n",
    "    verbose=1,              # Log when learning rate is reduced\n",
    "    mode='min',             # Mode 'min' because we want to minimize validation loss\n",
    "    min_lr=0.00001          # Lower bound on the learning rate\n",
    ")\n"
   ]
  },
  {
   "cell_type": "code",
   "execution_count": 19,
   "id": "cd642749-da1b-4160-95c2-8db091c894fa",
   "metadata": {},
   "outputs": [],
   "source": [
    "# Fit label encoder and return encoded labels\n",
    "labels_encoded = data['emotion_encoded']"
   ]
  },
  {
   "cell_type": "code",
   "execution_count": 20,
   "id": "59fae809-f665-41e4-9bcf-850d40a11b7e",
   "metadata": {},
   "outputs": [
    {
     "name": "stdout",
     "output_type": "stream",
     "text": [
      "Class Weights: {0: 0.8026236822139937, 1: 6.46956005841548, 2: 1.0765404535168057, 3: 0.7979073092206725, 4: 0.7996085465457335, 5: 0.8571005344748361}\n"
     ]
    }
   ],
   "source": [
    "# Calculate class weights\n",
    "class_labels = data['emotion'].unique()\n",
    "y = data['emotion'].values  # Extract labels from the DataFrame\n",
    "class_weights = compute_class_weight(class_weight='balanced', classes=np.unique(y), y=y)\n",
    "\n",
    "# Create a dictionary mapping class labels to their computed weights\n",
    "class_weight_dict = {label: weight for label, weight in zip(np.unique(y), class_weights)}\n",
    "# Assuming `label_encoder` is your LabelEncoder instance that was used to encode the class labels\n",
    "class_indices = {label: index for index, label in enumerate(label_encoder.classes_)}\n",
    "\n",
    "# Remap the class_weight_dict to use class indices instead of names\n",
    "class_weight_indexed = {class_indices[label]: weight for label, weight in class_weight_dict.items()}\n",
    "# Print the computed class weights\n",
    "print(\"Class Weights:\", class_weight_indexed)"
   ]
  },
  {
   "cell_type": "code",
   "execution_count": 21,
   "id": "a4875774-e62e-4de9-8f48-8de9746d5d9c",
   "metadata": {},
   "outputs": [],
   "source": [
    "# Specify the directory where you want to save the checkpoints\n",
    "checkpoint_dir = os.path.dirname(checkpoint_path)\n",
    "\n",
    "# Ensure the directory exists. If it doesn't, create it.\n",
    "os.makedirs(base_save_path, exist_ok=True)\n",
    "\n",
    "# Specify the checkpoint file path pattern\n",
    "checkpoint_path = os.path.join(base_save_path, \"cp-{epoch:04d}.ckpt\")\n",
    "checkpoint_dir = os.path.dirname(checkpoint_path)\n",
    "\n",
    "# Create a ModelCheckpoint callback\n",
    "cp_callback = ModelCheckpoint(\n",
    "    filepath=checkpoint_path, \n",
    "    verbose=1, \n",
    "    save_weights_only=True, \n",
    "    save_best_only=True,  # Saves only the best model\n",
    "    monitor='val_loss',  # Monitoring validation loss to determine the best model\n",
    "    mode='min',  # Since we're monitoring 'val_loss', 'min' mode saves the model when the metric has decreased\n",
    "    save_freq='epoch')  # Saving the model after each epoch"
   ]
  },
  {
   "cell_type": "code",
   "execution_count": 22,
   "id": "b8241f38-da77-42e8-90ce-043f8fa2b150",
   "metadata": {},
   "outputs": [
    {
     "name": "stdout",
     "output_type": "stream",
     "text": [
      "The validation set constitutes 18.00% of the entire dataset.\n"
     ]
    }
   ],
   "source": [
    "# Assuming 'val_data' is your final validation dataset\n",
    "# And assuming the total number of sentences in your original dataset is 490,000\n",
    "\n",
    "total_sentences = len(data)\n",
    "num_val_sentences = len(val_data)\n",
    "\n",
    "percentage_for_validation = (num_val_sentences / total_sentences) * 100\n",
    "\n",
    "print(f\"The validation set constitutes {percentage_for_validation:.2f}% of the entire dataset.\")\n"
   ]
  },
  {
   "cell_type": "code",
   "execution_count": 23,
   "id": "917ed103-757a-4443-a5a5-3f0df0682a1a",
   "metadata": {},
   "outputs": [
    {
     "name": "stdout",
     "output_type": "stream",
     "text": [
      "Epoch 1/30\n"
     ]
    },
    {
     "name": "stderr",
     "output_type": "stream",
     "text": [
      "/usr/local/lib/python3.11/dist-packages/keras/src/backend.py:5727: UserWarning: \"`sparse_categorical_crossentropy` received `from_logits=True`, but the `output` argument was produced by a Softmax activation and thus does not represent logits. Was this intended?\n",
      "  output, from_logits = _get_logits(\n",
      "2024-03-28 09:14:23.629946: I external/local_xla/xla/service/service.cc:168] XLA service 0x7fafe8ef8d20 initialized for platform CUDA (this does not guarantee that XLA will be used). Devices:\n",
      "2024-03-28 09:14:23.630007: I external/local_xla/xla/service/service.cc:176]   StreamExecutor device (0): NVIDIA RTX A6000, Compute Capability 8.6\n",
      "2024-03-28 09:14:23.639985: I tensorflow/compiler/mlir/tensorflow/utils/dump_mlir_util.cc:269] disabling MLIR crash reproducer, set env var `MLIR_CRASH_REPRODUCER_DIRECTORY` to enable.\n",
      "2024-03-28 09:14:23.674743: I external/local_xla/xla/stream_executor/cuda/cuda_dnn.cc:454] Loaded cuDNN version 8906\n",
      "WARNING: All log messages before absl::InitializeLog() is called are written to STDERR\n",
      "I0000 00:00:1711617263.781487 4103083 device_compiler.h:186] Compiled cluster using XLA!  This line is logged at most once for the lifetime of the process.\n"
     ]
    },
    {
     "name": "stdout",
     "output_type": "stream",
     "text": [
      "3633/3633 [==============================] - ETA: 0s - loss: 0.3045 - accuracy: 0.8825 - f1_metric: 1.3356\n",
      "Epoch 1: val_loss improved from inf to 0.13169, saving model to Roberta_v3_5f_checkpoints/cp-0001.ckpt\n",
      "3633/3633 [==============================] - 1676s 449ms/step - loss: 0.3045 - accuracy: 0.8825 - f1_metric: 1.3356 - val_loss: 0.1317 - val_accuracy: 0.9510 - val_f1_metric: 0.9489 - lr: 1.9249e-05\n",
      "Epoch 2/30\n",
      "3633/3633 [==============================] - ETA: 0s - loss: 0.1245 - accuracy: 0.9576 - f1_metric: 0.9615\n",
      "Epoch 2: val_loss improved from 0.13169 to 0.11365, saving model to Roberta_v3_5f_checkpoints/cp-0002.ckpt\n",
      "3633/3633 [==============================] - 1609s 443ms/step - loss: 0.1245 - accuracy: 0.9576 - f1_metric: 0.9615 - val_loss: 0.1137 - val_accuracy: 0.9607 - val_f1_metric: 0.9185 - lr: 1.8526e-05\n",
      "Epoch 3/30\n",
      "3633/3633 [==============================] - ETA: 0s - loss: 0.1035 - accuracy: 0.9638 - f1_metric: 0.9470\n",
      "Epoch 3: val_loss improved from 0.11365 to 0.10732, saving model to Roberta_v3_5f_checkpoints/cp-0003.ckpt\n",
      "3633/3633 [==============================] - 1614s 444ms/step - loss: 0.1035 - accuracy: 0.9638 - f1_metric: 0.9470 - val_loss: 0.1073 - val_accuracy: 0.9621 - val_f1_metric: 0.9147 - lr: 1.7830e-05\n",
      "Epoch 4/30\n",
      "3633/3633 [==============================] - ETA: 0s - loss: 0.0854 - accuracy: 0.9692 - f1_metric: 0.9378\n",
      "Epoch 4: val_loss did not improve from 0.10732\n",
      "3633/3633 [==============================] - 1610s 443ms/step - loss: 0.0854 - accuracy: 0.9692 - f1_metric: 0.9378 - val_loss: 0.1089 - val_accuracy: 0.9626 - val_f1_metric: 0.9074 - lr: 1.7161e-05\n",
      "Epoch 5/30\n",
      "3633/3633 [==============================] - ETA: 0s - loss: 0.0701 - accuracy: 0.9741 - f1_metric: 0.9292\n",
      "Epoch 5: val_loss did not improve from 0.10732\n",
      "3633/3633 [==============================] - 1615s 445ms/step - loss: 0.0701 - accuracy: 0.9741 - f1_metric: 0.9292 - val_loss: 0.1112 - val_accuracy: 0.9662 - val_f1_metric: 0.8906 - lr: 1.6516e-05\n",
      "Epoch 6/30\n",
      "3633/3633 [==============================] - ETA: 0s - loss: 0.0596 - accuracy: 0.9772 - f1_metric: 0.9227\n",
      "Epoch 6: ReduceLROnPlateau reducing learning rate to 1e-05.\n",
      "\n",
      "Epoch 6: val_loss did not improve from 0.10732\n",
      "3633/3633 [==============================] - 1611s 443ms/step - loss: 0.0596 - accuracy: 0.9772 - f1_metric: 0.9227 - val_loss: 0.1179 - val_accuracy: 0.9662 - val_f1_metric: 0.8950 - lr: 1.5896e-05\n",
      "Epoch 7/30\n",
      "3633/3633 [==============================] - ETA: 0s - loss: 0.0509 - accuracy: 0.9808 - f1_metric: 0.9166\n",
      "Epoch 7: val_loss did not improve from 0.10732\n",
      "3633/3633 [==============================] - 1673s 460ms/step - loss: 0.0509 - accuracy: 0.9808 - f1_metric: 0.9166 - val_loss: 0.1186 - val_accuracy: 0.9663 - val_f1_metric: 0.8889 - lr: 1.5299e-05\n",
      "Epoch 8/30\n",
      "3633/3633 [==============================] - ETA: 0s - loss: 0.0429 - accuracy: 0.9837 - f1_metric: 0.9120Restoring model weights from the end of the best epoch: 3.\n",
      "\n",
      "Epoch 8: val_loss did not improve from 0.10732\n",
      "3633/3633 [==============================] - 1681s 463ms/step - loss: 0.0429 - accuracy: 0.9837 - f1_metric: 0.9120 - val_loss: 0.1216 - val_accuracy: 0.9672 - val_f1_metric: 0.8864 - lr: 1.4725e-05\n",
      "Epoch 8: early stopping\n"
     ]
    }
   ],
   "source": [
    "# Prepare TensorFlow datasets (adjust to include numerical features)\n",
    "train_dataset = tf.data.Dataset.from_tensor_slices(({\"text_input\": train_input_ids, \"mask_input\": train_attention_masks, \"numerical_input\": numerical_features_train}, train_labels)).shuffle(len(train_input_ids)).batch(BATCH_SIZE)\n",
    "\n",
    "val_dataset = tf.data.Dataset.from_tensor_slices(({\"text_input\": val_input_ids, \"mask_input\": val_attention_masks, \"numerical_input\": numerical_features_val}, val_labels)).batch(BATCH_SIZE)\n",
    "\n",
    "# Train the model\n",
    "history = model.fit(\n",
    "    train_dataset,\n",
    "    epochs=EPOCHS,\n",
    "    validation_data=val_dataset,\n",
    "    callbacks=[early_stopping, reduce_lr, cp_callback],\n",
    "    class_weight = class_weight_indexed\n",
    ")\n"
   ]
  },
  {
   "cell_type": "code",
   "execution_count": 24,
   "id": "b4f1b6e5-e6e1-4ddb-bb51-01b727d79713",
   "metadata": {},
   "outputs": [
    {
     "name": "stdout",
     "output_type": "stream",
     "text": [
      "798/798 [==============================] - 120s 150ms/step - loss: 0.1073 - accuracy: 0.9621 - f1_metric: 0.9147\n",
      "Validation loss: 0.10732190310955048, Validation accuracy: 0.9621232748031616, Validation F1 Score: 0.9147003293037415\n"
     ]
    }
   ],
   "source": [
    "results = model.evaluate(val_dataset)\n",
    "print(f\"Validation loss: {results[0]}, Validation accuracy: {results[1]}, Validation F1 Score: {results[2]}\")"
   ]
  },
  {
   "cell_type": "markdown",
   "id": "88aa3bad-ff0e-4cd0-8d2f-97681e658cf7",
   "metadata": {},
   "source": [
    "## Visualization\n",
    "\n",
    "Generate usefull insights on the training"
   ]
  },
  {
   "cell_type": "code",
   "execution_count": 25,
   "id": "f7cf99fa-62ee-4208-b3d4-415308ac8a23",
   "metadata": {},
   "outputs": [
    {
     "data": {
      "image/png": "[encoded data removed]",
      "text/plain": [
       "<Figure size 1200x600 with 2 Axes>"
      ]
     },
     "metadata": {},
     "output_type": "display_data"
    }
   ],
   "source": [
    "# Plotting training history\n",
    "def plot_training_history(history):\n",
    "    acc = history.history['accuracy']\n",
    "    val_acc = history.history['val_accuracy']\n",
    "    loss = history.history['loss']\n",
    "    val_loss = history.history['val_loss']\n",
    "\n",
    "    epochs = range(len(acc))\n",
    "\n",
    "    plt.figure(figsize=(12, 6))\n",
    "\n",
    "    plt.subplot(1, 2, 1)\n",
    "    plt.plot(epochs, acc, label='Training Accuracy')\n",
    "    plt.plot(epochs, val_acc, label='Validation Accuracy')\n",
    "    plt.title('Training and Validation Accuracy')\n",
    "    plt.legend()\n",
    "\n",
    "    plt.subplot(1, 2, 2)\n",
    "    plt.plot(epochs, loss, label='Training Loss')\n",
    "    plt.plot(epochs, val_loss, label='Validation Loss')\n",
    "    plt.title('Training and Validation Loss')\n",
    "    plt.legend()\n",
    "\n",
    "    plt.show()\n",
    "\n",
    "plot_training_history(history)\n"
   ]
  },
  {
   "cell_type": "markdown",
   "id": "7d46d917-0eca-42a8-b5bc-5389d7250f70",
   "metadata": {},
   "source": [
    "##  Generate the Confusion Matrix and Metrics\n",
    "\n",
    "With the true labels and predictions, we can now generate a confusion matrix and calculate other evaluation metrics like precision, recall, and F1-score."
   ]
  },
  {
   "cell_type": "code",
   "execution_count": 26,
   "id": "f68483e9-474e-44ae-9a33-3202ece3125a",
   "metadata": {},
   "outputs": [
    {
     "name": "stdout",
     "output_type": "stream",
     "text": [
      "1595/1595 [==============================] - 135s 84ms/step\n"
     ]
    },
    {
     "data": {
      "image/png": "[encoded data removed]",
      "text/plain": [
       "<Figure size 1000x800 with 2 Axes>"
      ]
     },
     "metadata": {},
     "output_type": "display_data"
    }
   ],
   "source": [
    "# Predict classes with the model\n",
    "# Adjust the predict call to match your model inputs\n",
    "predictions = model.predict({\n",
    "    \"text_input\": val_input_ids, \n",
    "    \"mask_input\": val_attention_masks, \n",
    "    \"numerical_input\": numerical_features_val\n",
    "})\n",
    "\n",
    "# Assuming your model's final layer uses a softmax activation, predictions are probabilities\n",
    "predicted_labels = np.argmax(predictions, axis=1)\n",
    "\n",
    "# Generate the confusion matrix\n",
    "cm = confusion_matrix(val_labels, predicted_labels)\n",
    "\n",
    "# Calculate per-class accuracies\n",
    "accuracies = cm.diagonal() / cm.sum(axis=1)\n",
    "\n",
    "# Create an annotated confusion matrix with accuracies\n",
    "cm_with_acc = cm.astype('str')  # Convert counts to string for annotation\n",
    "for i in range(len(cm)):\n",
    "    for j in range(len(cm[i])):\n",
    "        # Append accuracy to the diagonal elements\n",
    "        if i == j:\n",
    "            cm_with_acc[i][j] = f\"{cm[i][j]}\\n({accuracies[i]*100:.1f}%)\"\n",
    "        else:\n",
    "            cm_with_acc[i][j] += \"\\n \"\n",
    "\n",
    "# Plotting\n",
    "fig, ax = plt.subplots(figsize=(10, 8))\n",
    "sns.heatmap(cm, annot=cm_with_acc, fmt='', ax=ax, cmap='Blues', \n",
    "            xticklabels=label_encoder.classes_, \n",
    "            yticklabels=label_encoder.classes_)\n",
    "plt.ylabel('Actual')\n",
    "plt.xlabel('Predicted')\n",
    "plt.title('Confusion Matrix with Accuracies')\n",
    "plt.show()"
   ]
  },
  {
   "cell_type": "markdown",
   "id": "95905cbc-5b2e-4c2e-a361-fde96dabbac5",
   "metadata": {},
   "source": [
    "## Prepare the Submission DataFrame and Save"
   ]
  },
  {
   "cell_type": "code",
   "execution_count": 27,
   "id": "55adc2b3-03cd-4855-83f0-e66f8e575857",
   "metadata": {},
   "outputs": [],
   "source": [
    "# Function to encode sentences (tokenize)\n",
    "def encode_sentences(df):\n",
    "    encoded_dict = tokenizer.batch_encode_plus(\n",
    "        df['sentence'].values,\n",
    "        add_special_tokens=True,\n",
    "        max_length=128,  # Adjust to your setup\n",
    "        padding='max_length',\n",
    "        truncation=True,\n",
    "        return_attention_mask=True,\n",
    "        return_tensors='np'\n",
    "    )\n",
    "    input_ids = encoded_dict['input_ids']\n",
    "    attention_masks = encoded_dict['attention_mask']\n",
    "    return input_ids, attention_masks"
   ]
  },
  {
   "cell_type": "code",
   "execution_count": 28,
   "id": "8001b0c2-e8a2-4f15-84a4-8c5fd17a6bbe",
   "metadata": {},
   "outputs": [
    {
     "name": "stderr",
     "output_type": "stream",
     "text": [
      "/usr/local/lib/python3.11/dist-packages/sklearn/base.py:493: UserWarning: X does not have valid feature names, but StandardScaler was fitted with feature names\n",
      "  warnings.warn(\n"
     ]
    },
    {
     "name": "stdout",
     "output_type": "stream",
     "text": [
      "23/23 [==============================] - 5s 143ms/step\n"
     ]
    }
   ],
   "source": [
    "# Load the test dataset\n",
    "test_df = pd.read_csv('test (1).csv', sep='\\t')\n",
    "\n",
    "# Ensure 'sentence' column is string and apply the clean_text function\n",
    "test_df['sentence'] = test_df['sentence'].astype(str).apply(clean_text)\n",
    "\n",
    "# Add punctuation features to the test dataset\n",
    "test_df['ends_with_exclamation'] = test_df['sentence'].str.endswith('!').astype(int)\n",
    "test_df['ends_with_question'] = test_df['sentence'].str.endswith('?').astype(int)\n",
    "test_df['ends_with_period'] = test_df['sentence'].str.endswith('.').astype(int)\n",
    "\n",
    "# Prepare the numerical features for the test dataset\n",
    "numerical_features_test = test_df[['ends_with_exclamation', 'ends_with_question', 'ends_with_period']].values\n",
    "# Assuming 'scaler' is already fitted with your training data\n",
    "numerical_features_test = scaler.transform(numerical_features_test)\n",
    "\n",
    "# Tokenize the sentences in the test dataset\n",
    "test_input_ids, test_attention_masks = encode_sentences(test_df)\n",
    "\n",
    "# Prepare the TensorFlow dataset for the test data\n",
    "test_dataset = tf.data.Dataset.from_tensor_slices(({\n",
    "    \"text_input\": test_input_ids, \n",
    "    \"mask_input\": test_attention_masks, \n",
    "    \"numerical_input\": numerical_features_test\n",
    "})).batch(BATCH_SIZE)\n",
    "\n",
    "# Predictions\n",
    "predictions = model.predict(test_dataset)\n",
    "predicted_labels = np.argmax(predictions, axis=1)\n",
    "\n",
    "# Assuming label_encoder is fitted with your original labels\n",
    "predicted_emotions = label_encoder.inverse_transform(predicted_labels)\n",
    "\n",
    "# Prepare your submission DataFrame\n",
    "submission_df = pd.DataFrame({\n",
    "    'id': test_df['id'],  # Make sure 'id' column exists in your test_df\n",
    "    'emotion': predicted_emotions\n",
    "})\n",
    "\n",
    "# Save the submission file\n",
    "submission_df.to_csv('Roberta_V3_5f_task12_submission.csv', index=False, sep=',')"
   ]
  },
  {
   "cell_type": "code",
   "execution_count": 30,
   "id": "2daffd60-882e-48d9-8501-7d35f341f851",
   "metadata": {},
   "outputs": [
    {
     "data": {
      "text/plain": [
       "['Roberta_V3_5f_task12_model/label_encoder.joblib']"
      ]
     },
     "execution_count": 30,
     "metadata": {},
     "output_type": "execute_result"
    }
   ],
   "source": [
    "import joblib\n",
    "\n",
    "# Define the base directory for saving\n",
    "base_save_dir = \"Roberta_V3_5f_task12_model\"\n",
    "\n",
    "# Ensure the base directory exists\n",
    "if not os.path.exists(base_save_dir):\n",
    "    os.makedirs(base_save_dir)\n",
    "\n",
    "# Specify the paths for the model, tokenizer, and label encoder\n",
    "model_save_path = os.path.join(base_save_dir, \"model\")\n",
    "tokenizer_save_path = os.path.join(base_save_dir, \"tokenizer\")\n",
    "label_encoder_save_path = os.path.join(base_save_dir, \"label_encoder.joblib\")\n",
    "\n",
    "# Save the tokenizer\n",
    "tokenizer.save_pretrained(tokenizer_save_path)\n",
    "\n",
    "# Save the label encoder\n",
    "joblib.dump(label_encoder, label_encoder_save_path)"
   ]
  },
  {
   "cell_type": "code",
   "execution_count": null,
   "id": "85f5a1c8-fe06-4b18-b0b3-7f8008df9a5b",
   "metadata": {},
   "outputs": [],
   "source": [
    "data_sub = 'Roberta_V3_5f_task12.csv'\n",
    "\n",
    "# Load the dataset\n",
    "data_submission = pd.read_csv(data_sub)\n",
    "\n",
    "# Define the mapping from integer labels to emotion names\n",
    "emotion_mapping = {\n",
    "    0: 'anger',\n",
    "    1: 'disgust',\n",
    "    2: 'fear',\n",
    "    3: 'happiness',\n",
    "    4: 'sadness',\n",
    "    5: 'surprise'\n",
    "}\n",
    "\n",
    "# Apply the mapping to the 'emotion' column\n",
    "data_submission['emotion'] = data_submission['emotion'].map(emotion_mapping)\n",
    "# Save the submission file\n",
    "data_submission.to_csv('Roberta_V3_5f_task12.csv', index=False, sep=',')"
   ]
  },
  {
   "cell_type": "code",
   "execution_count": null,
   "id": "9c2df3dc-b54e-40e3-a86e-a48749973073",
   "metadata": {},
   "outputs": [],
   "source": []
  }
 ],
 "metadata": {
  "kernelspec": {
   "display_name": "Python 3 (ipykernel)",
   "language": "python",
   "name": "python3"
  },
  "language_info": {
   "codemirror_mode": {
    "name": "ipython",
    "version": 3
   },
   "file_extension": ".py",
   "mimetype": "text/x-python",
   "name": "python",
   "nbconvert_exporter": "python",
   "pygments_lexer": "ipython3",
   "version": "3.11.0rc1"
  }
 },
 "nbformat": 4,
 "nbformat_minor": 5
}
