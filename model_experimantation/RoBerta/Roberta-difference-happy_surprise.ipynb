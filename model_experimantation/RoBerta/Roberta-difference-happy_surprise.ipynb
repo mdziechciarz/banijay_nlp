{
 "cells": [
  {
   "cell_type": "code",
   "execution_count": 1,
   "id": "ad084ddc-84cd-478f-871e-8e2f15eb9c3e",
   "metadata": {},
   "outputs": [
    {
     "name": "stderr",
     "output_type": "stream",
     "text": [
      "2024-04-02 09:39:37.597247: E external/local_xla/xla/stream_executor/cuda/cuda_dnn.cc:9261] Unable to register cuDNN factory: Attempting to register factory for plugin cuDNN when one has already been registered\n",
      "2024-04-02 09:39:37.597290: E external/local_xla/xla/stream_executor/cuda/cuda_fft.cc:607] Unable to register cuFFT factory: Attempting to register factory for plugin cuFFT when one has already been registered\n",
      "2024-04-02 09:39:37.598541: E external/local_xla/xla/stream_executor/cuda/cuda_blas.cc:1515] Unable to register cuBLAS factory: Attempting to register factory for plugin cuBLAS when one has already been registered\n",
      "2024-04-02 09:39:37.605018: I tensorflow/core/platform/cpu_feature_guard.cc:182] This TensorFlow binary is optimized to use available CPU instructions in performance-critical operations.\n",
      "To enable the following instructions: AVX2 FMA, in other operations, rebuild TensorFlow with the appropriate compiler flags.\n"
     ]
    }
   ],
   "source": [
    "import pandas as pd\n",
    "from sklearn.model_selection import train_test_split\n",
    "from sklearn.preprocessing import LabelEncoder\n",
    "from tensorflow.keras.preprocessing.sequence import pad_sequences\n",
    "from transformers import RobertaTokenizer\n",
    "import numpy as np\n",
    "from transformers import TFRobertaForSequenceClassification, RobertaConfig\n",
    "import tensorflow as tf\n",
    "import tensorflow.keras.backend as K\n",
    "from sklearn.metrics import confusion_matrix\n",
    "import seaborn as sns\n",
    "import matplotlib.pyplot as plt\n",
    "from tensorflow.keras.callbacks import EarlyStopping, ReduceLROnPlateau\n",
    "import os\n",
    "from tensorflow.keras.callbacks import ModelCheckpoint"
   ]
  },
  {
   "cell_type": "code",
   "execution_count": 2,
   "id": "139ac477-4295-4920-a6f9-097ee73b8912",
   "metadata": {},
   "outputs": [],
   "source": [
    "# Hyperparameters\n",
    "BATCH_SIZE = 64\n",
    "LEARNING_RATE = 1e-5\n",
    "EPOCHS = 30\n",
    "TEST_SIZE = 0.2\n",
    "RANDOM_STATE = 42\n",
    "MAX_LEN = 128  # Maximum sequence length\n",
    "NUM_LABELS = 2\n",
    "\n",
    "# Define the base path for saving model information\n",
    "base_save_path = \"Roberta-difference-happy_surprise_checkpoints\"\n",
    "checkpoint_path = \"Roberta-difference-happy_surprise_checkpoints/cp-{epoch:04d}.ckpt\""
   ]
  },
  {
   "cell_type": "code",
   "execution_count": 3,
   "id": "2e7e3810-3b15-40e7-8a98-b0b3360ab20b",
   "metadata": {},
   "outputs": [],
   "source": [
    "def f1_metric(y_true, y_pred):\n",
    "    def recall(y_true, y_pred):\n",
    "        true_positives = K.sum(K.round(K.clip(y_true * y_pred, 0, 1)))\n",
    "        possible_positives = K.sum(K.round(K.clip(y_true, 0, 1)))\n",
    "        recall = true_positives / (possible_positives + K.epsilon())\n",
    "        return recall\n",
    "\n",
    "    def precision(y_true, y_pred):\n",
    "        true_positives = K.sum(K.round(K.clip(y_true * y_pred, 0, 1)))\n",
    "        predicted_positives = K.sum(K.round(K.clip(y_pred, 0, 1)))\n",
    "        precision = true_positives / (predicted_positives + K.epsilon())\n",
    "        return precision\n",
    "\n",
    "    precision = precision(y_true, y_pred)\n",
    "    recall = recall(y_true, y_pred)\n",
    "    return 2*((precision*recall)/(precision+recall+K.epsilon()))"
   ]
  },
  {
   "cell_type": "code",
   "execution_count": 4,
   "id": "b215ce42-b16a-4fe0-9526-b67f7951dd43",
   "metadata": {},
   "outputs": [
    {
     "name": "stdout",
     "output_type": "stream",
     "text": [
      "Preview of the dataset:\n",
      "                                            sentence emotion\n",
      "0  i feel offended by my dear neighbour i wouldn ...   anger\n",
      "1  i feel like my dream is selfish when i feel li...   anger\n",
      "2  i also mention marriage living in that he also...   anger\n",
      "3  The elite were offended , but the common peopl...   anger\n",
      "4      i feel disgusted a href http glimpses writing   anger\n",
      "\n",
      "Summary statistics of the  dataset:\n",
      "                                                 sentence emotion\n",
      "count                                               67064   67064\n",
      "unique                                              67064       2\n",
      "top     i feel offended by my dear neighbour i wouldn ...   anger\n",
      "freq                                                    1   59703\n",
      "\n",
      "Information about columns in the dataset:\n",
      "<class 'pandas.core.frame.DataFrame'>\n",
      "RangeIndex: 67064 entries, 0 to 67063\n",
      "Data columns (total 2 columns):\n",
      " #   Column    Non-Null Count  Dtype \n",
      "---  ------    --------------  ----- \n",
      " 0   sentence  67064 non-null  object\n",
      " 1   emotion   67064 non-null  object\n",
      "dtypes: object(2)\n",
      "memory usage: 1.0+ MB\n",
      "None\n"
     ]
    }
   ],
   "source": [
    "# Specify the path to your CSV file\n",
    "file_path = 'anger_disgust_sentences.csv'\n",
    "\n",
    "# Load the dataset\n",
    "dataset = pd.read_csv(file_path)\n",
    "\n",
    "data = dataset.drop_duplicates()\n",
    "\n",
    "# Shuffle the combined dataset\n",
    "data = data.sample(frac=1).reset_index(drop=True)\n",
    "\n",
    "# Display basic information about the combined dataset\n",
    "print(\"Preview of the dataset:\")\n",
    "print(data.head())\n",
    "\n",
    "print(\"\\nSummary statistics of the  dataset:\")\n",
    "print(data.describe())\n",
    "\n",
    "print(\"\\nInformation about columns in the dataset:\")\n",
    "print(data.info())\n",
    "\n",
    "sentences = data['sentence'].values\n",
    "labels = data['emotion'].values"
   ]
  },
  {
   "cell_type": "code",
   "execution_count": 5,
   "id": "8869363d-6a1f-4e8a-b2c3-45108fe3841d",
   "metadata": {},
   "outputs": [
    {
     "name": "stderr",
     "output_type": "stream",
     "text": [
      "2024-04-02 09:39:41.909684: W tensorflow/core/common_runtime/gpu/gpu_bfc_allocator.cc:47] Overriding orig_value setting because the TF_FORCE_GPU_ALLOW_GROWTH environment variable is set. Original config value was 0.\n",
      "2024-04-02 09:39:41.910022: I tensorflow/core/common_runtime/gpu/gpu_device.cc:1929] Created device /job:localhost/replica:0/task:0/device:GPU:0 with 15564 MB memory:  -> device: 0, name: NVIDIA RTX A6000, pci bus id: 0000:25:00.0, compute capability: 8.6\n"
     ]
    }
   ],
   "source": [
    "# Encode the labels\n",
    "label_encoder = LabelEncoder()\n",
    "labels = label_encoder.fit_transform(labels)\n",
    "labels = tf.convert_to_tensor(labels)"
   ]
  },
  {
   "cell_type": "code",
   "execution_count": 6,
   "id": "1ad1d2b1-5f2d-48e1-9dab-5afad054e9e6",
   "metadata": {},
   "outputs": [],
   "source": [
    "# Initialize tokenizer\n",
    "tokenizer = RobertaTokenizer.from_pretrained('roberta-base')\n",
    "\n",
    "# Tokenize sentences to get input IDs and attention masks\n",
    "max_len = 128  # or choose a different max length\n",
    "input_ids = []\n",
    "attention_masks = []\n",
    "\n",
    "for sent in sentences:\n",
    "    encoded_dict = tokenizer.encode_plus(\n",
    "                        sent,\n",
    "                        add_special_tokens=True,\n",
    "                        max_length=max_len,\n",
    "                        truncation=True,\n",
    "                        padding='max_length',\n",
    "                        return_attention_mask=True,\n",
    "                        return_tensors='tf',\n",
    "                   )\n",
    "    input_ids.append(encoded_dict['input_ids'])\n",
    "    attention_masks.append(encoded_dict['attention_mask'])\n",
    "\n",
    "# Convert lists to tensors\n",
    "input_ids = tf.concat(input_ids, axis=0)\n",
    "attention_masks = tf.concat(attention_masks, axis=0)"
   ]
  },
  {
   "cell_type": "code",
   "execution_count": 7,
   "id": "0a293d31-f05d-45b7-86fc-13a065ff7803",
   "metadata": {},
   "outputs": [],
   "source": [
    "# Ensure all inputs to train_test_split are numpy arrays\n",
    "input_ids_np = input_ids.numpy() if isinstance(input_ids, tf.Tensor) else input_ids\n",
    "attention_masks_np = attention_masks.numpy() if isinstance(attention_masks, tf.Tensor) else attention_masks\n",
    "labels_np = labels.numpy() if isinstance(labels, tf.Tensor) else labels\n",
    "\n",
    "# Now perform the train-test split\n",
    "X_train, X_val, y_train, y_val = train_test_split(input_ids_np, labels_np, test_size=TEST_SIZE, random_state=RANDOM_STATE, stratify=labels_np)\n",
    "train_mask, val_mask = train_test_split(attention_masks_np, test_size=TEST_SIZE, random_state=RANDOM_STATE, stratify=labels_np)\n",
    "\n",
    "# Convert numpy arrays back to tensors for TensorFlow compatibility\n",
    "X_train = tf.constant(X_train)\n",
    "X_val = tf.constant(X_val)\n",
    "y_train = tf.constant(y_train)\n",
    "y_val = tf.constant(y_val)\n",
    "train_mask = tf.constant(train_mask)\n",
    "val_mask = tf.constant(val_mask)"
   ]
  },
  {
   "cell_type": "code",
   "execution_count": 8,
   "id": "3e406d70-b225-454c-b310-566becf5ddcc",
   "metadata": {},
   "outputs": [],
   "source": [
    "# Create TensorFlow datasets for the training and validation sets\n",
    "train_dataset = tf.data.Dataset.from_tensor_slices(({\"input_ids\": X_train, \"attention_mask\": train_mask}, y_train)).shuffle(len(X_train)).batch(BATCH_SIZE)\n",
    "val_dataset = tf.data.Dataset.from_tensor_slices(({\"input_ids\": X_val, \"attention_mask\": val_mask}, y_val)).batch(BATCH_SIZE)"
   ]
  },
  {
   "cell_type": "code",
   "execution_count": 9,
   "id": "10d2b833-3808-49e4-947c-0e58d5be661a",
   "metadata": {},
   "outputs": [
    {
     "name": "stderr",
     "output_type": "stream",
     "text": [
      "Some weights of the PyTorch model were not used when initializing the TF 2.0 model TFRobertaForSequenceClassification: ['roberta.embeddings.position_ids']\n",
      "- This IS expected if you are initializing TFRobertaForSequenceClassification from a PyTorch model trained on another task or with another architecture (e.g. initializing a TFBertForSequenceClassification model from a BertForPreTraining model).\n",
      "- This IS NOT expected if you are initializing TFRobertaForSequenceClassification from a PyTorch model that you expect to be exactly identical (e.g. initializing a TFBertForSequenceClassification model from a BertForSequenceClassification model).\n",
      "Some weights or buffers of the TF 2.0 model TFRobertaForSequenceClassification were not initialized from the PyTorch model and are newly initialized: ['classifier.dense.weight', 'classifier.dense.bias', 'classifier.out_proj.weight', 'classifier.out_proj.bias']\n",
      "You should probably TRAIN this model on a down-stream task to be able to use it for predictions and inference.\n"
     ]
    }
   ],
   "source": [
    "# Load RoBERTa model\n",
    "model_config = RobertaConfig.from_pretrained('roberta-base', num_labels=len(label_encoder.classes_))\n",
    "model = TFRobertaForSequenceClassification.from_pretrained('roberta-base', config=model_config)\n",
    "\n",
    "# Compile the model\n",
    "optimizer = tf.keras.optimizers.Adam(learning_rate=LEARNING_RATE)\n",
    "loss = tf.keras.losses.SparseCategoricalCrossentropy(from_logits=True)\n",
    "model.compile(optimizer=optimizer, loss=loss, metrics=['accuracy', f1_metric])\n"
   ]
  },
  {
   "cell_type": "code",
   "execution_count": 10,
   "id": "f9ca8fb3-7733-4c06-9224-7be6426aa5c5",
   "metadata": {},
   "outputs": [],
   "source": [
    "early_stopping = tf.keras.callbacks.EarlyStopping(\n",
    "    monitor='val_loss',  # Monitor validation accuracy\n",
    "    patience=2,             # Number of epochs with no improvement after which training will be stopped\n",
    "    verbose=1,              # Log when training is stopped\n",
    "    restore_best_weights=True, # Restore model weights from the epoch with the best value of the monitored quantity\n",
    "    mode='min'\n",
    ")"
   ]
  },
  {
   "cell_type": "code",
   "execution_count": 11,
   "id": "943efa6a-9a56-4957-be03-65730ab260a6",
   "metadata": {},
   "outputs": [],
   "source": [
    "lr_scheduler = tf.keras.callbacks.ReduceLROnPlateau(\n",
    "    monitor='val_loss',\n",
    "    factor=0.3,  # Reduction factor for the learning rate\n",
    "    patience=1,  # Number of epochs with no improvement after which learning rate will be reduced\n",
    "    verbose=1\n",
    ")"
   ]
  },
  {
   "cell_type": "code",
   "execution_count": 12,
   "id": "1359cf65-f8b8-42da-a15a-a9e954ecfca9",
   "metadata": {},
   "outputs": [],
   "source": [
    "# Fit label encoder and return encoded labels\n",
    "labels_encoded = label_encoder.fit_transform(labels)"
   ]
  },
  {
   "cell_type": "code",
   "execution_count": 13,
   "id": "36489c9a-e351-4ea5-80c2-ae561c507683",
   "metadata": {},
   "outputs": [],
   "source": [
    "# Count the number of occurrences of each class\n",
    "class_counts = np.unique(labels_encoded, return_counts=True)[1]\n",
    "\n",
    "# Calculate total number of samples\n",
    "total_samples = len(labels_encoded)\n",
    "\n",
    "# Calculate class weights inversely proportional to the class frequencies\n",
    "class_weights = {i: total_samples/(count * len(class_counts)) for i, count in enumerate(class_counts)}"
   ]
  },
  {
   "cell_type": "code",
   "execution_count": 14,
   "id": "dcf5bb50-9fc9-4445-9a3d-696de6a91944",
   "metadata": {},
   "outputs": [],
   "source": [
    "# Specify the directory where you want to save the checkpoints\n",
    "checkpoint_dir = os.path.dirname(checkpoint_path)\n",
    "\n",
    "# Ensure the directory exists. If it doesn't, create it.\n",
    "os.makedirs(base_save_path, exist_ok=True)\n",
    "\n",
    "# Specify the checkpoint file path pattern\n",
    "checkpoint_path = os.path.join(base_save_path, \"cp-{epoch:04d}.ckpt\")\n",
    "checkpoint_dir = os.path.dirname(checkpoint_path)\n",
    "\n",
    "# Create a ModelCheckpoint callback\n",
    "cp_callback = ModelCheckpoint(\n",
    "    filepath=checkpoint_path, \n",
    "    verbose=1, \n",
    "    save_weights_only=True, \n",
    "    save_best_only=True,  # Saves only the best model\n",
    "    monitor='val_loss',  # Monitoring validation loss to determine the best model\n",
    "    mode='min',  # Since we're monitoring 'val_loss', 'min' mode saves the model when the metric has decreased\n",
    "    save_freq='epoch')  # Saving the model after each epoch"
   ]
  },
  {
   "cell_type": "code",
   "execution_count": 15,
   "id": "d9ecd3ea-0be0-4659-ad5a-be6372d31a39",
   "metadata": {},
   "outputs": [
    {
     "name": "stdout",
     "output_type": "stream",
     "text": [
      "Epoch 1/30\n"
     ]
    },
    {
     "name": "stderr",
     "output_type": "stream",
     "text": [
      "2024-04-02 09:40:45.386995: I external/local_xla/xla/service/service.cc:168] XLA service 0x7fe730082eb0 initialized for platform CUDA (this does not guarantee that XLA will be used). Devices:\n",
      "2024-04-02 09:40:45.387059: I external/local_xla/xla/service/service.cc:176]   StreamExecutor device (0): NVIDIA RTX A6000, Compute Capability 8.6\n",
      "2024-04-02 09:40:45.398971: I tensorflow/compiler/mlir/tensorflow/utils/dump_mlir_util.cc:269] disabling MLIR crash reproducer, set env var `MLIR_CRASH_REPRODUCER_DIRECTORY` to enable.\n",
      "2024-04-02 09:40:45.436269: I external/local_xla/xla/stream_executor/cuda/cuda_dnn.cc:454] Loaded cuDNN version 8906\n",
      "WARNING: All log messages before absl::InitializeLog() is called are written to STDERR\n",
      "I0000 00:00:1712050845.539657 1507615 device_compiler.h:186] Compiled cluster using XLA!  This line is logged at most once for the lifetime of the process.\n"
     ]
    },
    {
     "name": "stdout",
     "output_type": "stream",
     "text": [
      "839/839 [==============================] - ETA: 0s - loss: 0.1180 - accuracy: 0.9272 - f1_metric: 0.1930\n",
      "Epoch 1: val_loss improved from inf to 0.10108, saving model to Roberta-difference-happy_surprise_checkpoints/cp-0001.ckpt\n",
      "839/839 [==============================] - 1186s 1s/step - loss: 0.1180 - accuracy: 0.9272 - f1_metric: 0.1930 - val_loss: 0.1011 - val_accuracy: 0.9546 - val_f1_metric: 0.1924 - lr: 1.0000e-05\n",
      "Epoch 2/30\n",
      "839/839 [==============================] - ETA: 0s - loss: 0.0729 - accuracy: 0.9656 - f1_metric: 0.1931\n",
      "Epoch 2: val_loss improved from 0.10108 to 0.06952, saving model to Roberta-difference-happy_surprise_checkpoints/cp-0002.ckpt\n",
      "839/839 [==============================] - 948s 1s/step - loss: 0.0729 - accuracy: 0.9656 - f1_metric: 0.1931 - val_loss: 0.0695 - val_accuracy: 0.9711 - val_f1_metric: 0.1849 - lr: 1.0000e-05\n",
      "Epoch 3/30\n",
      "839/839 [==============================] - ETA: 0s - loss: 0.0547 - accuracy: 0.9741 - f1_metric: 0.1937\n",
      "Epoch 3: ReduceLROnPlateau reducing learning rate to 2.9999999242136253e-06.\n",
      "\n",
      "Epoch 3: val_loss did not improve from 0.06952\n",
      "839/839 [==============================] - 853s 1s/step - loss: 0.0547 - accuracy: 0.9741 - f1_metric: 0.1937 - val_loss: 0.0867 - val_accuracy: 0.9657 - val_f1_metric: 0.1909 - lr: 1.0000e-05\n",
      "Epoch 4/30\n",
      "839/839 [==============================] - ETA: 0s - loss: 0.0308 - accuracy: 0.9860 - f1_metric: 0.1950Restoring model weights from the end of the best epoch: 2.\n",
      "\n",
      "Epoch 4: ReduceLROnPlateau reducing learning rate to 8.999999636216671e-07.\n",
      "\n",
      "Epoch 4: val_loss did not improve from 0.06952\n",
      "839/839 [==============================] - 815s 971ms/step - loss: 0.0308 - accuracy: 0.9860 - f1_metric: 0.1950 - val_loss: 0.0724 - val_accuracy: 0.9753 - val_f1_metric: 0.1905 - lr: 3.0000e-06\n",
      "Epoch 4: early stopping\n"
     ]
    }
   ],
   "source": [
    "# Fit the model with class weights, early stopping, and learning rate scheduler\n",
    "history = model.fit(\n",
    "    train_dataset,\n",
    "    batch_size=BATCH_SIZE,\n",
    "    epochs=EPOCHS,\n",
    "    validation_data=val_dataset,\n",
    "    callbacks=[early_stopping, lr_scheduler, cp_callback],\n",
    "    class_weight=class_weights  # Use the calculated class weights\n",
    ")\n"
   ]
  },
  {
   "cell_type": "code",
   "execution_count": 16,
   "id": "da39b1ce-e9f5-4da8-b0c2-68735b3cd408",
   "metadata": {},
   "outputs": [
    {
     "name": "stdout",
     "output_type": "stream",
     "text": [
      "420/420 [==============================] - 65s 150ms/step\n"
     ]
    },
    {
     "data": {
      "image/png": "[encoded data removed]",
      "text/plain": [
       "<Figure size 1000x800 with 2 Axes>"
      ]
     },
     "metadata": {},
     "output_type": "display_data"
    }
   ],
   "source": [
    "# Assuming X_val and y_val are your test inputs and labels, respectively.\n",
    "# If you have a separate test set, replace X_val and y_val accordingly.\n",
    "\n",
    "# Predict classes with the model\n",
    "predictions = model.predict({\"input_ids\": X_val, \"attention_mask\": val_mask})\n",
    "predicted_labels = np.argmax(predictions.logits, axis=1)\n",
    "\n",
    "# Since your labels are already encoded with LabelEncoder, there's no need to decode them\n",
    "\n",
    "# Generate the confusion matrix\n",
    "cm = confusion_matrix(y_val, predicted_labels)\n",
    "\n",
    "# Calculate per-class accuracies\n",
    "accuracies = cm.diagonal() / cm.sum(axis=1)\n",
    "\n",
    "# Create an annotated confusion matrix with accuracies\n",
    "cm_with_acc = cm.astype('str')  # Convert counts to string for annotation\n",
    "for i in range(len(cm)):\n",
    "    for j in range(len(cm[i])):\n",
    "        # Append accuracy to the diagonal elements\n",
    "        if i == j:\n",
    "            cm_with_acc[i][j] = f\"{cm[i][j]}\\n({accuracies[i]*100:.1f}%)\"\n",
    "        else:\n",
    "            cm_with_acc[i][j] += \"\\n \"\n",
    "\n",
    "# Plotting\n",
    "fig, ax = plt.subplots(figsize=(10, 8))\n",
    "sns.heatmap(cm, annot=cm_with_acc, fmt='', ax=ax, cmap='Blues', \n",
    "            xticklabels=label_encoder.classes_, \n",
    "            yticklabels=label_encoder.classes_)\n",
    "plt.ylabel('Actual')\n",
    "plt.xlabel('Predicted')\n",
    "plt.title('Confusion Matrix with Accuracies')\n",
    "plt.show()\n"
   ]
  },
  {
   "cell_type": "code",
   "execution_count": 21,
   "id": "e0bb8969-e991-403d-a2a5-2018be0770ee",
   "metadata": {},
   "outputs": [],
   "source": [
    "model.save_pretrained('anger-disgust')"
   ]
  },
  {
   "cell_type": "code",
   "execution_count": 22,
   "id": "1fde6bf2-0a46-49d6-97e6-2760e0661abf",
   "metadata": {},
   "outputs": [
    {
     "data": {
      "text/plain": [
       "['anger-disgust/label_encoder.joblib']"
      ]
     },
     "execution_count": 22,
     "metadata": {},
     "output_type": "execute_result"
    }
   ],
   "source": [
    "import joblib\n",
    "\n",
    "# Define the base path for saving\n",
    "base_save_path = \"anger-disgust\"\n",
    "\n",
    "# Specify the paths for the model, tokenizer, and label encoder\n",
    "tokenizer_save_path = f\"{base_save_path}/tokenizer\"\n",
    "label_encoder_save_path = f\"{base_save_path}/label_encoder.joblib\"\n",
    "\n",
    "# Assuming `model` is your TFRobertaForSequenceClassification model,\n",
    "# `tokenizer` is your RobertaTokenizer, and `label_encoder` is your LabelEncoder instance\n",
    "\n",
    "# Save the tokenizer\n",
    "tokenizer.save_pretrained(tokenizer_save_path)\n",
    "\n",
    "# Save the label encoder\n",
    "joblib.dump(label_encoder, label_encoder_save_path)"
   ]
  },
  {
   "cell_type": "code",
   "execution_count": 19,
   "id": "5d854ae4-1ed8-4208-aa4e-9c459e156723",
   "metadata": {},
   "outputs": [
    {
     "name": "stdout",
     "output_type": "stream",
     "text": [
      "Label mapping:\n",
      "0: 0\n",
      "1: 1\n"
     ]
    },
    {
     "ename": "ValueError",
     "evalue": "invalid literal for int() with base 10: 'anger'",
     "output_type": "error",
     "traceback": [
      "\u001b[0;31m---------------------------------------------------------------------------\u001b[0m",
      "\u001b[0;31mValueError\u001b[0m                                Traceback (most recent call last)",
      "Cell \u001b[0;32mIn[19], line 13\u001b[0m\n\u001b[1;32m     10\u001b[0m     \u001b[38;5;28mprint\u001b[39m(\u001b[38;5;124mf\u001b[39m\u001b[38;5;124m\"\u001b[39m\u001b[38;5;132;01m{\u001b[39;00mlabel\u001b[38;5;132;01m}\u001b[39;00m\u001b[38;5;124m: \u001b[39m\u001b[38;5;132;01m{\u001b[39;00mi\u001b[38;5;132;01m}\u001b[39;00m\u001b[38;5;124m\"\u001b[39m)\n\u001b[1;32m     12\u001b[0m \u001b[38;5;66;03m# Specifically check for 'anger' and 'disgust'\u001b[39;00m\n\u001b[0;32m---> 13\u001b[0m anger_index \u001b[38;5;241m=\u001b[39m \u001b[43mlabel_encoder\u001b[49m\u001b[38;5;241;43m.\u001b[39;49m\u001b[43mtransform\u001b[49m\u001b[43m(\u001b[49m\u001b[43m[\u001b[49m\u001b[38;5;124;43m'\u001b[39;49m\u001b[38;5;124;43manger\u001b[39;49m\u001b[38;5;124;43m'\u001b[39;49m\u001b[43m]\u001b[49m\u001b[43m)\u001b[49m[\u001b[38;5;241m0\u001b[39m]\n\u001b[1;32m     14\u001b[0m disgust_index \u001b[38;5;241m=\u001b[39m label_encoder\u001b[38;5;241m.\u001b[39mtransform([\u001b[38;5;124m'\u001b[39m\u001b[38;5;124mdisgust\u001b[39m\u001b[38;5;124m'\u001b[39m])[\u001b[38;5;241m0\u001b[39m]\n\u001b[1;32m     16\u001b[0m \u001b[38;5;28mprint\u001b[39m(\u001b[38;5;124mf\u001b[39m\u001b[38;5;124m\"\u001b[39m\u001b[38;5;130;01m\\n\u001b[39;00m\u001b[38;5;124mEncoded label for \u001b[39m\u001b[38;5;124m'\u001b[39m\u001b[38;5;124manger\u001b[39m\u001b[38;5;124m'\u001b[39m\u001b[38;5;124m: \u001b[39m\u001b[38;5;132;01m{\u001b[39;00manger_index\u001b[38;5;132;01m}\u001b[39;00m\u001b[38;5;124m\"\u001b[39m)\n",
      "File \u001b[0;32m/usr/local/lib/python3.11/dist-packages/sklearn/preprocessing/_label.py:132\u001b[0m, in \u001b[0;36mLabelEncoder.transform\u001b[0;34m(self, y)\u001b[0m\n\u001b[1;32m    119\u001b[0m \u001b[38;5;250m\u001b[39m\u001b[38;5;124;03m\"\"\"Transform labels to normalized encoding.\u001b[39;00m\n\u001b[1;32m    120\u001b[0m \n\u001b[1;32m    121\u001b[0m \u001b[38;5;124;03mParameters\u001b[39;00m\n\u001b[0;32m   (...)\u001b[0m\n\u001b[1;32m    129\u001b[0m \u001b[38;5;124;03m    Labels as normalized encodings.\u001b[39;00m\n\u001b[1;32m    130\u001b[0m \u001b[38;5;124;03m\"\"\"\u001b[39;00m\n\u001b[1;32m    131\u001b[0m check_is_fitted(\u001b[38;5;28mself\u001b[39m)\n\u001b[0;32m--> 132\u001b[0m y \u001b[38;5;241m=\u001b[39m \u001b[43mcolumn_or_1d\u001b[49m\u001b[43m(\u001b[49m\u001b[43my\u001b[49m\u001b[43m,\u001b[49m\u001b[43m \u001b[49m\u001b[43mdtype\u001b[49m\u001b[38;5;241;43m=\u001b[39;49m\u001b[38;5;28;43mself\u001b[39;49m\u001b[38;5;241;43m.\u001b[39;49m\u001b[43mclasses_\u001b[49m\u001b[38;5;241;43m.\u001b[39;49m\u001b[43mdtype\u001b[49m\u001b[43m,\u001b[49m\u001b[43m \u001b[49m\u001b[43mwarn\u001b[49m\u001b[38;5;241;43m=\u001b[39;49m\u001b[38;5;28;43;01mTrue\u001b[39;49;00m\u001b[43m)\u001b[49m\n\u001b[1;32m    133\u001b[0m \u001b[38;5;66;03m# transform of empty array is empty array\u001b[39;00m\n\u001b[1;32m    134\u001b[0m \u001b[38;5;28;01mif\u001b[39;00m _num_samples(y) \u001b[38;5;241m==\u001b[39m \u001b[38;5;241m0\u001b[39m:\n",
      "File \u001b[0;32m/usr/local/lib/python3.11/dist-packages/sklearn/utils/validation.py:1342\u001b[0m, in \u001b[0;36mcolumn_or_1d\u001b[0;34m(y, dtype, warn)\u001b[0m\n\u001b[1;32m   1310\u001b[0m \u001b[38;5;250m\u001b[39m\u001b[38;5;124;03m\"\"\"Ravel column or 1d numpy array, else raises an error.\u001b[39;00m\n\u001b[1;32m   1311\u001b[0m \n\u001b[1;32m   1312\u001b[0m \u001b[38;5;124;03mParameters\u001b[39;00m\n\u001b[0;32m   (...)\u001b[0m\n\u001b[1;32m   1339\u001b[0m \u001b[38;5;124;03marray([1, 1])\u001b[39;00m\n\u001b[1;32m   1340\u001b[0m \u001b[38;5;124;03m\"\"\"\u001b[39;00m\n\u001b[1;32m   1341\u001b[0m xp, _ \u001b[38;5;241m=\u001b[39m get_namespace(y)\n\u001b[0;32m-> 1342\u001b[0m y \u001b[38;5;241m=\u001b[39m \u001b[43mcheck_array\u001b[49m\u001b[43m(\u001b[49m\n\u001b[1;32m   1343\u001b[0m \u001b[43m    \u001b[49m\u001b[43my\u001b[49m\u001b[43m,\u001b[49m\n\u001b[1;32m   1344\u001b[0m \u001b[43m    \u001b[49m\u001b[43mensure_2d\u001b[49m\u001b[38;5;241;43m=\u001b[39;49m\u001b[38;5;28;43;01mFalse\u001b[39;49;00m\u001b[43m,\u001b[49m\n\u001b[1;32m   1345\u001b[0m \u001b[43m    \u001b[49m\u001b[43mdtype\u001b[49m\u001b[38;5;241;43m=\u001b[39;49m\u001b[43mdtype\u001b[49m\u001b[43m,\u001b[49m\n\u001b[1;32m   1346\u001b[0m \u001b[43m    \u001b[49m\u001b[43minput_name\u001b[49m\u001b[38;5;241;43m=\u001b[39;49m\u001b[38;5;124;43m\"\u001b[39;49m\u001b[38;5;124;43my\u001b[39;49m\u001b[38;5;124;43m\"\u001b[39;49m\u001b[43m,\u001b[49m\n\u001b[1;32m   1347\u001b[0m \u001b[43m    \u001b[49m\u001b[43mforce_all_finite\u001b[49m\u001b[38;5;241;43m=\u001b[39;49m\u001b[38;5;28;43;01mFalse\u001b[39;49;00m\u001b[43m,\u001b[49m\n\u001b[1;32m   1348\u001b[0m \u001b[43m    \u001b[49m\u001b[43mensure_min_samples\u001b[49m\u001b[38;5;241;43m=\u001b[39;49m\u001b[38;5;241;43m0\u001b[39;49m\u001b[43m,\u001b[49m\n\u001b[1;32m   1349\u001b[0m \u001b[43m\u001b[49m\u001b[43m)\u001b[49m\n\u001b[1;32m   1351\u001b[0m shape \u001b[38;5;241m=\u001b[39m y\u001b[38;5;241m.\u001b[39mshape\n\u001b[1;32m   1352\u001b[0m \u001b[38;5;28;01mif\u001b[39;00m \u001b[38;5;28mlen\u001b[39m(shape) \u001b[38;5;241m==\u001b[39m \u001b[38;5;241m1\u001b[39m:\n",
      "File \u001b[0;32m/usr/local/lib/python3.11/dist-packages/sklearn/utils/validation.py:995\u001b[0m, in \u001b[0;36mcheck_array\u001b[0;34m(array, accept_sparse, accept_large_sparse, dtype, order, copy, force_all_finite, ensure_2d, allow_nd, ensure_min_samples, ensure_min_features, estimator, input_name)\u001b[0m\n\u001b[1;32m    987\u001b[0m     \u001b[38;5;28;01mif\u001b[39;00m xp\u001b[38;5;241m.\u001b[39misdtype(array\u001b[38;5;241m.\u001b[39mdtype, (\u001b[38;5;124m\"\u001b[39m\u001b[38;5;124mreal floating\u001b[39m\u001b[38;5;124m\"\u001b[39m, \u001b[38;5;124m\"\u001b[39m\u001b[38;5;124mcomplex floating\u001b[39m\u001b[38;5;124m\"\u001b[39m)):\n\u001b[1;32m    988\u001b[0m         _assert_all_finite(\n\u001b[1;32m    989\u001b[0m             array,\n\u001b[1;32m    990\u001b[0m             allow_nan\u001b[38;5;241m=\u001b[39m\u001b[38;5;28;01mFalse\u001b[39;00m,\n\u001b[0;32m   (...)\u001b[0m\n\u001b[1;32m    993\u001b[0m             input_name\u001b[38;5;241m=\u001b[39minput_name,\n\u001b[1;32m    994\u001b[0m         )\n\u001b[0;32m--> 995\u001b[0m     array \u001b[38;5;241m=\u001b[39m \u001b[43mxp\u001b[49m\u001b[38;5;241;43m.\u001b[39;49m\u001b[43mastype\u001b[49m\u001b[43m(\u001b[49m\u001b[43marray\u001b[49m\u001b[43m,\u001b[49m\u001b[43m \u001b[49m\u001b[43mdtype\u001b[49m\u001b[43m,\u001b[49m\u001b[43m \u001b[49m\u001b[43mcopy\u001b[49m\u001b[38;5;241;43m=\u001b[39;49m\u001b[38;5;28;43;01mFalse\u001b[39;49;00m\u001b[43m)\u001b[49m\n\u001b[1;32m    996\u001b[0m \u001b[38;5;28;01melse\u001b[39;00m:\n\u001b[1;32m    997\u001b[0m     array \u001b[38;5;241m=\u001b[39m _asarray_with_order(array, order\u001b[38;5;241m=\u001b[39morder, dtype\u001b[38;5;241m=\u001b[39mdtype, xp\u001b[38;5;241m=\u001b[39mxp)\n",
      "File \u001b[0;32m/usr/local/lib/python3.11/dist-packages/sklearn/utils/_array_api.py:290\u001b[0m, in \u001b[0;36m_NumPyAPIWrapper.astype\u001b[0;34m(self, x, dtype, copy, casting)\u001b[0m\n\u001b[1;32m    288\u001b[0m \u001b[38;5;28;01mdef\u001b[39;00m \u001b[38;5;21mastype\u001b[39m(\u001b[38;5;28mself\u001b[39m, x, dtype, \u001b[38;5;241m*\u001b[39m, copy\u001b[38;5;241m=\u001b[39m\u001b[38;5;28;01mTrue\u001b[39;00m, casting\u001b[38;5;241m=\u001b[39m\u001b[38;5;124m\"\u001b[39m\u001b[38;5;124munsafe\u001b[39m\u001b[38;5;124m\"\u001b[39m):\n\u001b[1;32m    289\u001b[0m     \u001b[38;5;66;03m# astype is not defined in the top level NumPy namespace\u001b[39;00m\n\u001b[0;32m--> 290\u001b[0m     \u001b[38;5;28;01mreturn\u001b[39;00m \u001b[43mx\u001b[49m\u001b[38;5;241;43m.\u001b[39;49m\u001b[43mastype\u001b[49m\u001b[43m(\u001b[49m\u001b[43mdtype\u001b[49m\u001b[43m,\u001b[49m\u001b[43m \u001b[49m\u001b[43mcopy\u001b[49m\u001b[38;5;241;43m=\u001b[39;49m\u001b[43mcopy\u001b[49m\u001b[43m,\u001b[49m\u001b[43m \u001b[49m\u001b[43mcasting\u001b[49m\u001b[38;5;241;43m=\u001b[39;49m\u001b[43mcasting\u001b[49m\u001b[43m)\u001b[49m\n",
      "\u001b[0;31mValueError\u001b[0m: invalid literal for int() with base 10: 'anger'"
     ]
    }
   ],
   "source": [
    "# After fitting the LabelEncoder on your labels\n",
    "label_encoder.fit(labels)\n",
    "\n",
    "# To get the list of original class labels\n",
    "original_classes = list(label_encoder.classes_)\n",
    "\n",
    "# Print the mapping of original labels to encoded labels\n",
    "print(\"Label mapping:\")\n",
    "for i, label in enumerate(original_classes):\n",
    "    print(f\"{label}: {i}\")\n",
    "\n",
    "# Specifically check for 'anger' and 'disgust'\n",
    "anger_index = label_encoder.transform(['anger'])[0]\n",
    "disgust_index = label_encoder.transform(['disgust'])[0]\n",
    "\n",
    "print(f\"\\nEncoded label for 'anger': {anger_index}\")\n",
    "print(f\"Encoded label for 'disgust': {disgust_index}\")\n"
   ]
  },
  {
   "cell_type": "code",
   "execution_count": null,
   "id": "b5462b43-1854-40fd-8b99-bd0198b0aacd",
   "metadata": {},
   "outputs": [],
   "source": []
  }
 ],
 "metadata": {
  "kernelspec": {
   "display_name": "Python 3 (ipykernel)",
   "language": "python",
   "name": "python3"
  },
  "language_info": {
   "codemirror_mode": {
    "name": "ipython",
    "version": 3
   },
   "file_extension": ".py",
   "mimetype": "text/x-python",
   "name": "python",
   "nbconvert_exporter": "python",
   "pygments_lexer": "ipython3",
   "version": "3.11.0rc1"
  }
 },
 "nbformat": 4,
 "nbformat_minor": 5
}
