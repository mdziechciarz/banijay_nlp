{
 "cells": [
  {
   "cell_type": "code",
   "execution_count": 1,
   "id": "de710208-9e7d-4415-9f15-711d7cfb9f5a",
   "metadata": {},
   "outputs": [
    {
     "name": "stderr",
     "output_type": "stream",
     "text": [
      "2024-04-02 09:48:13.543500: E external/local_xla/xla/stream_executor/cuda/cuda_dnn.cc:9261] Unable to register cuDNN factory: Attempting to register factory for plugin cuDNN when one has already been registered\n",
      "2024-04-02 09:48:13.543553: E external/local_xla/xla/stream_executor/cuda/cuda_fft.cc:607] Unable to register cuFFT factory: Attempting to register factory for plugin cuFFT when one has already been registered\n",
      "2024-04-02 09:48:13.544755: E external/local_xla/xla/stream_executor/cuda/cuda_blas.cc:1515] Unable to register cuBLAS factory: Attempting to register factory for plugin cuBLAS when one has already been registered\n",
      "2024-04-02 09:48:13.551251: I tensorflow/core/platform/cpu_feature_guard.cc:182] This TensorFlow binary is optimized to use available CPU instructions in performance-critical operations.\n",
      "To enable the following instructions: AVX2 FMA, in other operations, rebuild TensorFlow with the appropriate compiler flags.\n"
     ]
    }
   ],
   "source": [
    "import pandas as pd\n",
    "from sklearn.model_selection import train_test_split\n",
    "from sklearn.preprocessing import LabelEncoder\n",
    "from tensorflow.keras.preprocessing.sequence import pad_sequences\n",
    "from transformers import RobertaTokenizer\n",
    "import numpy as np\n",
    "from transformers import TFRobertaForSequenceClassification, RobertaConfig\n",
    "import tensorflow as tf\n",
    "import tensorflow.keras.backend as K\n",
    "from sklearn.metrics import confusion_matrix\n",
    "import seaborn as sns\n",
    "import matplotlib.pyplot as plt\n",
    "from tensorflow.keras.callbacks import EarlyStopping, ReduceLROnPlateau\n",
    "import os\n",
    "from tensorflow.keras.callbacks import ModelCheckpoint"
   ]
  },
  {
   "cell_type": "code",
   "execution_count": 2,
   "id": "44380610-4829-4193-a5e7-dc5dc56a2a6b",
   "metadata": {},
   "outputs": [],
   "source": [
    "# Hyperparameters\n",
    "BATCH_SIZE = 64\n",
    "LEARNING_RATE = 1e-5\n",
    "EPOCHS = 30\n",
    "TEST_SIZE = 0.2\n",
    "RANDOM_STATE = 42\n",
    "MAX_LEN = 128  # Maximum sequence length\n",
    "NUM_LABELS = 2\n",
    "\n",
    "# Define the base path for saving model information\n",
    "base_save_path = \"Roberta-difference-anger-disgust_checkpoints\"\n",
    "checkpoint_path = \"Roberta-difference-anger-disgust_checkpoints/cp-{epoch:04d}.ckpt\""
   ]
  },
  {
   "cell_type": "code",
   "execution_count": 3,
   "id": "38014f57-6277-4650-989e-1362eb64af5a",
   "metadata": {},
   "outputs": [],
   "source": [
    "def f1_metric(y_true, y_pred):\n",
    "    def recall(y_true, y_pred):\n",
    "        true_positives = K.sum(K.round(K.clip(y_true * y_pred, 0, 1)))\n",
    "        possible_positives = K.sum(K.round(K.clip(y_true, 0, 1)))\n",
    "        recall = true_positives / (possible_positives + K.epsilon())\n",
    "        return recall\n",
    "\n",
    "    def precision(y_true, y_pred):\n",
    "        true_positives = K.sum(K.round(K.clip(y_true * y_pred, 0, 1)))\n",
    "        predicted_positives = K.sum(K.round(K.clip(y_pred, 0, 1)))\n",
    "        precision = true_positives / (predicted_positives + K.epsilon())\n",
    "        return precision\n",
    "\n",
    "    precision = precision(y_true, y_pred)\n",
    "    recall = recall(y_true, y_pred)\n",
    "    return 2*((precision*recall)/(precision+recall+K.epsilon()))"
   ]
  },
  {
   "cell_type": "code",
   "execution_count": 4,
   "id": "8f236c7f-d67c-41e9-89b3-ac5380dfd881",
   "metadata": {},
   "outputs": [
    {
     "name": "stdout",
     "output_type": "stream",
     "text": [
      "Preview of the dataset:\n",
      "                                            sentence    emotion\n",
      "0  for about one year i had a rather bad relation...  happiness\n",
      "1  i do see myself as unlovable from a romatic lo...  happiness\n",
      "2  The last thing a stray dog expected on reveal ...   surprise\n",
      "3  In the middle of the CEO, embark on a remarkab...   surprise\n",
      "4  Against all odds, the mysterious box managed t...   surprise\n",
      "\n",
      "Summary statistics of the  dataset:\n",
      "                                                 sentence    emotion\n",
      "count                                              245558     245558\n",
      "unique                                             245558          2\n",
      "top     for about one year i had a rather bad relation...  happiness\n",
      "freq                                                    1     190250\n",
      "\n",
      "Information about columns in the dataset:\n",
      "<class 'pandas.core.frame.DataFrame'>\n",
      "RangeIndex: 245558 entries, 0 to 245557\n",
      "Data columns (total 2 columns):\n",
      " #   Column    Non-Null Count   Dtype \n",
      "---  ------    --------------   ----- \n",
      " 0   sentence  245558 non-null  object\n",
      " 1   emotion   245558 non-null  object\n",
      "dtypes: object(2)\n",
      "memory usage: 3.7+ MB\n",
      "None\n"
     ]
    }
   ],
   "source": [
    "# Specify the path to your CSV file\n",
    "file_path = 'surprise_happiness_sentences.csv'\n",
    "\n",
    "# Load the dataset\n",
    "dataset = pd.read_csv(file_path)\n",
    "\n",
    "data = dataset.drop_duplicates()\n",
    "\n",
    "# Shuffle the combined dataset\n",
    "data = data.sample(frac=1).reset_index(drop=True)\n",
    "\n",
    "# Display basic information about the combined dataset\n",
    "print(\"Preview of the dataset:\")\n",
    "print(data.head())\n",
    "\n",
    "print(\"\\nSummary statistics of the  dataset:\")\n",
    "print(data.describe())\n",
    "\n",
    "print(\"\\nInformation about columns in the dataset:\")\n",
    "print(data.info())\n",
    "\n",
    "sentences = data['sentence'].values\n",
    "labels = data['emotion'].values"
   ]
  },
  {
   "cell_type": "code",
   "execution_count": 5,
   "id": "019b4e2d-86d1-41b1-a2f4-0269fc3d768a",
   "metadata": {},
   "outputs": [
    {
     "name": "stderr",
     "output_type": "stream",
     "text": [
      "2024-04-02 09:48:18.149923: W tensorflow/core/common_runtime/gpu/gpu_bfc_allocator.cc:47] Overriding orig_value setting because the TF_FORCE_GPU_ALLOW_GROWTH environment variable is set. Original config value was 0.\n",
      "2024-04-02 09:48:18.150270: I tensorflow/core/common_runtime/gpu/gpu_device.cc:1929] Created device /job:localhost/replica:0/task:0/device:GPU:0 with 16248 MB memory:  -> device: 0, name: NVIDIA RTX A6000, pci bus id: 0000:25:00.0, compute capability: 8.6\n"
     ]
    }
   ],
   "source": [
    "# Encode the labels\n",
    "label_encoder = LabelEncoder()\n",
    "labels = label_encoder.fit_transform(labels)\n",
    "labels = tf.convert_to_tensor(labels)"
   ]
  },
  {
   "cell_type": "code",
   "execution_count": 6,
   "id": "6bbcef56-2fdd-44e9-b572-2fc67471a0a1",
   "metadata": {},
   "outputs": [],
   "source": [
    "# Initialize tokenizer\n",
    "tokenizer = RobertaTokenizer.from_pretrained('roberta-base')\n",
    "\n",
    "# Tokenize sentences to get input IDs and attention masks\n",
    "max_len = 128  # or choose a different max length\n",
    "input_ids = []\n",
    "attention_masks = []\n",
    "\n",
    "for sent in sentences:\n",
    "    encoded_dict = tokenizer.encode_plus(\n",
    "                        sent,\n",
    "                        add_special_tokens=True,\n",
    "                        max_length=max_len,\n",
    "                        truncation=True,\n",
    "                        padding='max_length',\n",
    "                        return_attention_mask=True,\n",
    "                        return_tensors='tf',\n",
    "                   )\n",
    "    input_ids.append(encoded_dict['input_ids'])\n",
    "    attention_masks.append(encoded_dict['attention_mask'])\n",
    "\n",
    "# Convert lists to tensors\n",
    "input_ids = tf.concat(input_ids, axis=0)\n",
    "attention_masks = tf.concat(attention_masks, axis=0)"
   ]
  },
  {
   "cell_type": "code",
   "execution_count": 7,
   "id": "bf77993d-a2c2-4a91-8d5e-9d28703b696f",
   "metadata": {},
   "outputs": [],
   "source": [
    "# Ensure all inputs to train_test_split are numpy arrays\n",
    "input_ids_np = input_ids.numpy() if isinstance(input_ids, tf.Tensor) else input_ids\n",
    "attention_masks_np = attention_masks.numpy() if isinstance(attention_masks, tf.Tensor) else attention_masks\n",
    "labels_np = labels.numpy() if isinstance(labels, tf.Tensor) else labels\n",
    "\n",
    "# Now perform the train-test split\n",
    "X_train, X_val, y_train, y_val = train_test_split(input_ids_np, labels_np, test_size=TEST_SIZE, random_state=RANDOM_STATE, stratify=labels_np)\n",
    "train_mask, val_mask = train_test_split(attention_masks_np, test_size=TEST_SIZE, random_state=RANDOM_STATE, stratify=labels_np)\n",
    "\n",
    "# Convert numpy arrays back to tensors for TensorFlow compatibility\n",
    "X_train = tf.constant(X_train)\n",
    "X_val = tf.constant(X_val)\n",
    "y_train = tf.constant(y_train)\n",
    "y_val = tf.constant(y_val)\n",
    "train_mask = tf.constant(train_mask)\n",
    "val_mask = tf.constant(val_mask)"
   ]
  },
  {
   "cell_type": "code",
   "execution_count": 8,
   "id": "2712af05-56c5-4f2e-8eb4-b181dfc62eb4",
   "metadata": {},
   "outputs": [],
   "source": [
    "# Create TensorFlow datasets for the training and validation sets\n",
    "train_dataset = tf.data.Dataset.from_tensor_slices(({\"input_ids\": X_train, \"attention_mask\": train_mask}, y_train)).shuffle(len(X_train)).batch(BATCH_SIZE)\n",
    "val_dataset = tf.data.Dataset.from_tensor_slices(({\"input_ids\": X_val, \"attention_mask\": val_mask}, y_val)).batch(BATCH_SIZE)"
   ]
  },
  {
   "cell_type": "code",
   "execution_count": 9,
   "id": "771a0f23-0cd9-4aad-9c69-a54693e3fc3c",
   "metadata": {},
   "outputs": [
    {
     "name": "stderr",
     "output_type": "stream",
     "text": [
      "Some weights of the PyTorch model were not used when initializing the TF 2.0 model TFRobertaForSequenceClassification: ['roberta.embeddings.position_ids']\n",
      "- This IS expected if you are initializing TFRobertaForSequenceClassification from a PyTorch model trained on another task or with another architecture (e.g. initializing a TFBertForSequenceClassification model from a BertForPreTraining model).\n",
      "- This IS NOT expected if you are initializing TFRobertaForSequenceClassification from a PyTorch model that you expect to be exactly identical (e.g. initializing a TFBertForSequenceClassification model from a BertForSequenceClassification model).\n",
      "Some weights or buffers of the TF 2.0 model TFRobertaForSequenceClassification were not initialized from the PyTorch model and are newly initialized: ['classifier.dense.weight', 'classifier.dense.bias', 'classifier.out_proj.weight', 'classifier.out_proj.bias']\n",
      "You should probably TRAIN this model on a down-stream task to be able to use it for predictions and inference.\n"
     ]
    }
   ],
   "source": [
    "# Load RoBERTa model\n",
    "model_config = RobertaConfig.from_pretrained('roberta-base', num_labels=len(label_encoder.classes_))\n",
    "model = TFRobertaForSequenceClassification.from_pretrained('roberta-base', config=model_config)\n",
    "\n",
    "# Compile the model\n",
    "optimizer = tf.keras.optimizers.Adam(learning_rate=LEARNING_RATE)\n",
    "loss = tf.keras.losses.SparseCategoricalCrossentropy(from_logits=True)\n",
    "model.compile(optimizer=optimizer, loss=loss, metrics=['accuracy', f1_metric])\n"
   ]
  },
  {
   "cell_type": "code",
   "execution_count": 10,
   "id": "7e4a1ea8-08fa-463a-b543-0ec4b1b2e99d",
   "metadata": {},
   "outputs": [],
   "source": [
    "early_stopping = tf.keras.callbacks.EarlyStopping(\n",
    "    monitor='val_loss',  # Monitor validation accuracy\n",
    "    patience=2,             # Number of epochs with no improvement after which training will be stopped\n",
    "    verbose=1,              # Log when training is stopped\n",
    "    restore_best_weights=True, # Restore model weights from the epoch with the best value of the monitored quantity\n",
    "    mode='min'\n",
    ")"
   ]
  },
  {
   "cell_type": "code",
   "execution_count": 11,
   "id": "5dcc657e-0bbe-4dc5-bced-29ddf8ce2f39",
   "metadata": {},
   "outputs": [],
   "source": [
    "lr_scheduler = tf.keras.callbacks.ReduceLROnPlateau(\n",
    "    monitor='val_loss',\n",
    "    factor=0.3,  # Reduction factor for the learning rate\n",
    "    patience=1,  # Number of epochs with no improvement after which learning rate will be reduced\n",
    "    verbose=1\n",
    ")"
   ]
  },
  {
   "cell_type": "code",
   "execution_count": 12,
   "id": "91c2ae03-fe20-4f6c-b86a-4cebf722fb59",
   "metadata": {},
   "outputs": [],
   "source": [
    "# Fit label encoder and return encoded labels\n",
    "labels_encoded = label_encoder.fit_transform(labels)"
   ]
  },
  {
   "cell_type": "code",
   "execution_count": 13,
   "id": "24579c84-e0f8-4152-b740-7b22762c6315",
   "metadata": {},
   "outputs": [],
   "source": [
    "# Count the number of occurrences of each class\n",
    "class_counts = np.unique(labels_encoded, return_counts=True)[1]\n",
    "\n",
    "# Calculate total number of samples\n",
    "total_samples = len(labels_encoded)\n",
    "\n",
    "# Calculate class weights inversely proportional to the class frequencies\n",
    "class_weights = {i: total_samples/(count * len(class_counts)) for i, count in enumerate(class_counts)}"
   ]
  },
  {
   "cell_type": "code",
   "execution_count": 14,
   "id": "6ce1683f-4193-4c0b-a92d-2d91564b9dda",
   "metadata": {},
   "outputs": [],
   "source": [
    "# Specify the directory where you want to save the checkpoints\n",
    "checkpoint_dir = os.path.dirname(checkpoint_path)\n",
    "\n",
    "# Ensure the directory exists. If it doesn't, create it.\n",
    "os.makedirs(base_save_path, exist_ok=True)\n",
    "\n",
    "# Specify the checkpoint file path pattern\n",
    "checkpoint_path = os.path.join(base_save_path, \"cp-{epoch:04d}.ckpt\")\n",
    "checkpoint_dir = os.path.dirname(checkpoint_path)\n",
    "\n",
    "# Create a ModelCheckpoint callback\n",
    "cp_callback = ModelCheckpoint(\n",
    "    filepath=checkpoint_path, \n",
    "    verbose=1, \n",
    "    save_weights_only=True, \n",
    "    save_best_only=True,  # Saves only the best model\n",
    "    monitor='val_loss',  # Monitoring validation loss to determine the best model\n",
    "    mode='min',  # Since we're monitoring 'val_loss', 'min' mode saves the model when the metric has decreased\n",
    "    save_freq='epoch')  # Saving the model after each epoch"
   ]
  },
  {
   "cell_type": "code",
   "execution_count": 15,
   "id": "a0bd5695-ddba-4fdc-ad4d-ab178b344deb",
   "metadata": {},
   "outputs": [
    {
     "name": "stdout",
     "output_type": "stream",
     "text": [
      "Epoch 1/30\n"
     ]
    },
    {
     "name": "stderr",
     "output_type": "stream",
     "text": [
      "2024-04-02 09:50:52.603610: I external/local_xla/xla/service/service.cc:168] XLA service 0x7f17dc2cdfa0 initialized for platform CUDA (this does not guarantee that XLA will be used). Devices:\n",
      "2024-04-02 09:50:52.603660: I external/local_xla/xla/service/service.cc:176]   StreamExecutor device (0): NVIDIA RTX A6000, Compute Capability 8.6\n",
      "2024-04-02 09:50:52.612936: I tensorflow/compiler/mlir/tensorflow/utils/dump_mlir_util.cc:269] disabling MLIR crash reproducer, set env var `MLIR_CRASH_REPRODUCER_DIRECTORY` to enable.\n",
      "2024-04-02 09:50:52.648724: I external/local_xla/xla/stream_executor/cuda/cuda_dnn.cc:454] Loaded cuDNN version 8906\n",
      "WARNING: All log messages before absl::InitializeLog() is called are written to STDERR\n",
      "I0000 00:00:1712051452.747824 1723209 device_compiler.h:186] Compiled cluster using XLA!  This line is logged at most once for the lifetime of the process.\n"
     ]
    },
    {
     "name": "stdout",
     "output_type": "stream",
     "text": [
      "3070/3070 [==============================] - ETA: 0s - loss: 0.0528 - accuracy: 0.9798 - f1_metric: 0.3614\n",
      "Epoch 1: val_loss improved from inf to 0.03244, saving model to Roberta-difference-anger-disgust_checkpoints/cp-0001.ckpt\n",
      "3070/3070 [==============================] - 3242s 1s/step - loss: 0.0528 - accuracy: 0.9798 - f1_metric: 0.3614 - val_loss: 0.0324 - val_accuracy: 0.9881 - val_f1_metric: 0.3636 - lr: 1.0000e-05\n",
      "Epoch 2/30\n",
      "3070/3070 [==============================] - ETA: 0s - loss: 0.0262 - accuracy: 0.9897 - f1_metric: 0.3633\n",
      "Epoch 2: val_loss improved from 0.03244 to 0.02303, saving model to Roberta-difference-anger-disgust_checkpoints/cp-0002.ckpt\n",
      "3070/3070 [==============================] - 1371s 447ms/step - loss: 0.0262 - accuracy: 0.9897 - f1_metric: 0.3633 - val_loss: 0.0230 - val_accuracy: 0.9912 - val_f1_metric: 0.3634 - lr: 1.0000e-05\n",
      "Epoch 3/30\n",
      "3070/3070 [==============================] - ETA: 0s - loss: 0.0191 - accuracy: 0.9920 - f1_metric: 0.3638\n",
      "Epoch 3: ReduceLROnPlateau reducing learning rate to 2.9999999242136253e-06.\n",
      "\n",
      "Epoch 3: val_loss did not improve from 0.02303\n",
      "3070/3070 [==============================] - 1367s 445ms/step - loss: 0.0191 - accuracy: 0.9920 - f1_metric: 0.3638 - val_loss: 0.0255 - val_accuracy: 0.9899 - val_f1_metric: 0.3641 - lr: 1.0000e-05\n",
      "Epoch 4/30\n",
      "3070/3070 [==============================] - ETA: 0s - loss: 0.0114 - accuracy: 0.9953 - f1_metric: 0.3643Restoring model weights from the end of the best epoch: 2.\n",
      "\n",
      "Epoch 4: ReduceLROnPlateau reducing learning rate to 8.999999636216671e-07.\n",
      "\n",
      "Epoch 4: val_loss did not improve from 0.02303\n",
      "3070/3070 [==============================] - 1366s 445ms/step - loss: 0.0114 - accuracy: 0.9953 - f1_metric: 0.3643 - val_loss: 0.0286 - val_accuracy: 0.9911 - val_f1_metric: 0.3642 - lr: 3.0000e-06\n",
      "Epoch 4: early stopping\n"
     ]
    }
   ],
   "source": [
    "# Fit the model with class weights, early stopping, and learning rate scheduler\n",
    "history = model.fit(\n",
    "    train_dataset,\n",
    "    batch_size=BATCH_SIZE,\n",
    "    epochs=EPOCHS,\n",
    "    validation_data=val_dataset,\n",
    "    callbacks=[early_stopping, lr_scheduler, cp_callback],\n",
    "    class_weight=class_weights  # Use the calculated class weights\n",
    ")\n"
   ]
  },
  {
   "cell_type": "code",
   "execution_count": 16,
   "id": "30b18633-0c53-4235-b4ac-8e29681ec38d",
   "metadata": {},
   "outputs": [
    {
     "name": "stdout",
     "output_type": "stream",
     "text": [
      "1535/1535 [==============================] - 156s 100ms/step\n"
     ]
    },
    {
     "data": {
      "image/png": "[encoded data removed]",
      "text/plain": [
       "<Figure size 1000x800 with 2 Axes>"
      ]
     },
     "metadata": {},
     "output_type": "display_data"
    }
   ],
   "source": [
    "# Assuming X_val and y_val are your test inputs and labels, respectively.\n",
    "# If you have a separate test set, replace X_val and y_val accordingly.\n",
    "\n",
    "# Predict classes with the model\n",
    "predictions = model.predict({\"input_ids\": X_val, \"attention_mask\": val_mask})\n",
    "predicted_labels = np.argmax(predictions.logits, axis=1)\n",
    "\n",
    "# Since your labels are already encoded with LabelEncoder, there's no need to decode them\n",
    "\n",
    "# Generate the confusion matrix\n",
    "cm = confusion_matrix(y_val, predicted_labels)\n",
    "\n",
    "# Calculate per-class accuracies\n",
    "accuracies = cm.diagonal() / cm.sum(axis=1)\n",
    "\n",
    "# Create an annotated confusion matrix with accuracies\n",
    "cm_with_acc = cm.astype('str')  # Convert counts to string for annotation\n",
    "for i in range(len(cm)):\n",
    "    for j in range(len(cm[i])):\n",
    "        # Append accuracy to the diagonal elements\n",
    "        if i == j:\n",
    "            cm_with_acc[i][j] = f\"{cm[i][j]}\\n({accuracies[i]*100:.1f}%)\"\n",
    "        else:\n",
    "            cm_with_acc[i][j] += \"\\n \"\n",
    "\n",
    "# Plotting\n",
    "fig, ax = plt.subplots(figsize=(10, 8))\n",
    "sns.heatmap(cm, annot=cm_with_acc, fmt='', ax=ax, cmap='Blues', \n",
    "            xticklabels=label_encoder.classes_, \n",
    "            yticklabels=label_encoder.classes_)\n",
    "plt.ylabel('Actual')\n",
    "plt.xlabel('Predicted')\n",
    "plt.title('Confusion Matrix with Accuracies')\n",
    "plt.show()\n"
   ]
  },
  {
   "cell_type": "code",
   "execution_count": null,
   "id": "df1439af-0a52-420d-9d73-884da7d8d39d",
   "metadata": {},
   "outputs": [],
   "source": []
  }
 ],
 "metadata": {
  "kernelspec": {
   "display_name": "Python 3 (ipykernel)",
   "language": "python",
   "name": "python3"
  },
  "language_info": {
   "codemirror_mode": {
    "name": "ipython",
    "version": 3
   },
   "file_extension": ".py",
   "mimetype": "text/x-python",
   "name": "python",
   "nbconvert_exporter": "python",
   "pygments_lexer": "ipython3",
   "version": "3.11.0rc1"
  }
 },
 "nbformat": 4,
 "nbformat_minor": 5
}
