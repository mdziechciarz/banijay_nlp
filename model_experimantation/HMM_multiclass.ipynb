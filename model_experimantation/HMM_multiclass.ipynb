{
 "cells": [
  {
   "cell_type": "code",
   "execution_count": 1,
   "metadata": {},
   "outputs": [],
   "source": [
    "import pandas as pd\n",
    "import numpy as np\n",
    "from hmmlearn import hmm\n",
    "from sklearn.preprocessing import LabelEncoder\n",
    "from sklearn.metrics import accuracy_score, f1_score\n",
    "from sklearn.model_selection import train_test_split\n",
    "from sklearn.feature_extraction.text import CountVectorizer"
   ]
  },
  {
   "cell_type": "code",
   "execution_count": 2,
   "metadata": {},
   "outputs": [],
   "source": [
    "# Load dataset\n",
    "df = pd.read_csv(\n",
    "    \"../../Datasets/emotion_data_merged_3.csv\"\n",
    ")  # Make sure to replace 'your_dataset.csv' with your actual file path\n",
    "\n",
    "df = df.dropna()\n",
    "# df = df[:10000]"
   ]
  },
  {
   "cell_type": "code",
   "execution_count": 3,
   "metadata": {},
   "outputs": [
    {
     "data": {
      "text/html": [
       "<div>\n",
       "<style scoped>\n",
       "    .dataframe tbody tr th:only-of-type {\n",
       "        vertical-align: middle;\n",
       "    }\n",
       "\n",
       "    .dataframe tbody tr th {\n",
       "        vertical-align: top;\n",
       "    }\n",
       "\n",
       "    .dataframe thead th {\n",
       "        text-align: right;\n",
       "    }\n",
       "</style>\n",
       "<table border=\"1\" class=\"dataframe\">\n",
       "  <thead>\n",
       "    <tr style=\"text-align: right;\">\n",
       "      <th></th>\n",
       "      <th>sentence</th>\n",
       "      <th>emotion</th>\n",
       "    </tr>\n",
       "  </thead>\n",
       "  <tbody>\n",
       "    <tr>\n",
       "      <th>0</th>\n",
       "      <td>In a certain mill lived an old miller who had ...</td>\n",
       "      <td>neutral</td>\n",
       "    </tr>\n",
       "    <tr>\n",
       "      <th>1</th>\n",
       "      <td>As they had been with him several years, he on...</td>\n",
       "      <td>neutral</td>\n",
       "    </tr>\n",
       "    <tr>\n",
       "      <th>2</th>\n",
       "      <td>The third of the boys was, however, the drudge...</td>\n",
       "      <td>neutral</td>\n",
       "    </tr>\n",
       "    <tr>\n",
       "      <th>3</th>\n",
       "      <td>Then all three went out together, and when the...</td>\n",
       "      <td>neutral</td>\n",
       "    </tr>\n",
       "    <tr>\n",
       "      <th>4</th>\n",
       "      <td>Hans, however, went with them, and when it was...</td>\n",
       "      <td>neutral</td>\n",
       "    </tr>\n",
       "    <tr>\n",
       "      <th>...</th>\n",
       "      <td>...</td>\n",
       "      <td>...</td>\n",
       "    </tr>\n",
       "    <tr>\n",
       "      <th>524147</th>\n",
       "      <td>When I was informed that a short story I had w...</td>\n",
       "      <td>happiness</td>\n",
       "    </tr>\n",
       "    <tr>\n",
       "      <th>524148</th>\n",
       "      <td>When my friend got very low marks in field wor...</td>\n",
       "      <td>disgust</td>\n",
       "    </tr>\n",
       "    <tr>\n",
       "      <th>524149</th>\n",
       "      <td>When I was in a little fishing boat and we ran...</td>\n",
       "      <td>fear</td>\n",
       "    </tr>\n",
       "    <tr>\n",
       "      <th>524150</th>\n",
       "      <td>I was \\best man\\\" at my brother's wedding a ye...</td>\n",
       "      <td>happiness</td>\n",
       "    </tr>\n",
       "    <tr>\n",
       "      <th>524151</th>\n",
       "      <td>The sense of joy comes to me always after a pe...</td>\n",
       "      <td>happiness</td>\n",
       "    </tr>\n",
       "  </tbody>\n",
       "</table>\n",
       "<p>523267 rows × 2 columns</p>\n",
       "</div>"
      ],
      "text/plain": [
       "                                                 sentence    emotion\n",
       "0       In a certain mill lived an old miller who had ...    neutral\n",
       "1       As they had been with him several years, he on...    neutral\n",
       "2       The third of the boys was, however, the drudge...    neutral\n",
       "3       Then all three went out together, and when the...    neutral\n",
       "4       Hans, however, went with them, and when it was...    neutral\n",
       "...                                                   ...        ...\n",
       "524147  When I was informed that a short story I had w...  happiness\n",
       "524148  When my friend got very low marks in field wor...    disgust\n",
       "524149  When I was in a little fishing boat and we ran...       fear\n",
       "524150  I was \\best man\\\" at my brother's wedding a ye...  happiness\n",
       "524151  The sense of joy comes to me always after a pe...  happiness\n",
       "\n",
       "[523267 rows x 2 columns]"
      ]
     },
     "execution_count": 3,
     "metadata": {},
     "output_type": "execute_result"
    }
   ],
   "source": [
    "df"
   ]
  },
  {
   "cell_type": "code",
   "execution_count": 4,
   "metadata": {},
   "outputs": [],
   "source": [
    "# Preprocessing: Convert sentences into a sequence of integers using CountVectorizer\n",
    "# Note: This is a very naive approach and might not work well for HMM\n",
    "vectorizer = CountVectorizer(max_features=1000)\n",
    "X = vectorizer.fit_transform(df[\"sentence\"]).toarray()\n",
    "\n",
    "# Convert emotion labels to integers\n",
    "label_encoder = LabelEncoder()\n",
    "y = label_encoder.fit_transform(df[\"emotion\"])\n",
    "\n",
    "# Split the dataset into training and testing sets\n",
    "X_train, X_test, y_train, y_test = train_test_split(\n",
    "    X, y, test_size=0.2, random_state=42\n",
    ")"
   ]
  },
  {
   "cell_type": "code",
   "execution_count": null,
   "metadata": {},
   "outputs": [],
   "source": [
    "# Initialize and train HMM\n",
    "# Note: We are using GaussianHMM as an example; this might need to be adapted based on your feature representation\n",
    "model = hmm.GaussianHMM(n_components=7, covariance_type=\"diag\", n_iter=50)\n",
    "model.fit(X_train)"
   ]
  },
  {
   "cell_type": "code",
   "execution_count": null,
   "metadata": {},
   "outputs": [
    {
     "name": "stdout",
     "output_type": "stream",
     "text": [
      "Accuracy: 0.07706346627935864\n",
      "F1 Score: 0.02190251186295934\n"
     ]
    }
   ],
   "source": [
    "# Predict the sequence of emotions for the test set\n",
    "y_pred = model.predict(X_test)\n",
    "\n",
    "# Calculate and print the accuracy and F1 score\n",
    "accuracy = accuracy_score(y_test, y_pred)\n",
    "f1 = f1_score(y_test, y_pred, average=\"weighted\")\n",
    "print(f\"Accuracy: {accuracy}\")\n",
    "print(f\"F1 Score: {f1}\")"
   ]
  },
  {
   "cell_type": "code",
   "execution_count": null,
   "metadata": {},
   "outputs": [],
   "source": [
    "# Load the test data\n",
    "group_test_df = pd.read_csv(\"../../Datasets/test_group.csv\", sep=\"\\t\")\n",
    "\n",
    "# Preprocess the sentences using the same CountVectorizer\n",
    "X_group_test = vectorizer.transform(group_test_df[\"sentence\"]).toarray()\n",
    "\n",
    "# Use the trained HMM model to predict the emotions\n",
    "group_test_pred = model.predict(X_group_test)\n",
    "\n",
    "# Map the predicted integer labels back to emotion labels\n",
    "group_test_pred_labels = label_encoder.inverse_transform(group_test_pred)\n",
    "\n",
    "# Create a DataFrame with the predictions\n",
    "predictions_df = pd.DataFrame(\n",
    "    {\"id\": group_test_df[\"id\"], \"predicted_emotion\": group_test_pred_labels}\n",
    ")\n",
    "\n",
    "predictions_df"
   ]
  },
  {
   "cell_type": "code",
   "execution_count": null,
   "metadata": {},
   "outputs": [],
   "source": [
    "# Save the predictions to a CSV file\n",
    "predictions_df.to_csv(\"predictions.csv\", index=False)"
   ]
  }
 ],
 "metadata": {
  "kernelspec": {
   "display_name": "gpu",
   "language": "python",
   "name": "python3"
  },
  "language_info": {
   "codemirror_mode": {
    "name": "ipython",
    "version": 3
   },
   "file_extension": ".py",
   "mimetype": "text/x-python",
   "name": "python",
   "nbconvert_exporter": "python",
   "pygments_lexer": "ipython3",
   "version": "3.10.13"
  }
 },
 "nbformat": 4,
 "nbformat_minor": 2
}
