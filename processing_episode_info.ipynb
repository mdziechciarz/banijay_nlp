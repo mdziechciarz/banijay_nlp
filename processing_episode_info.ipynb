{
 "cells": [
  {
   "cell_type": "code",
   "execution_count": 31,
   "metadata": {},
   "outputs": [],
   "source": [
    "import os\n",
    "import pandas as pd\n",
    "\n",
    "# Convert video data to audio data\n",
    "from moviepy.editor import VideoFileClip\n",
    "\n",
    "# Process audio data (segment into fragments)\n",
    "from pydub import AudioSegment\n",
    "\n",
    "# Transcription from Dutch audio to English text\n",
    "import whisper"
   ]
  },
  {
   "cell_type": "markdown",
   "metadata": {},
   "source": [
    "## Reading the data and separating the dataframe by episodes"
   ]
  },
  {
   "cell_type": "code",
   "execution_count": 32,
   "metadata": {},
   "outputs": [
    {
     "data": {
      "text/html": [
       "<div>\n",
       "<style scoped>\n",
       "    .dataframe tbody tr th:only-of-type {\n",
       "        vertical-align: middle;\n",
       "    }\n",
       "\n",
       "    .dataframe tbody tr th {\n",
       "        vertical-align: top;\n",
       "    }\n",
       "\n",
       "    .dataframe thead th {\n",
       "        text-align: right;\n",
       "    }\n",
       "</style>\n",
       "<table border=\"1\" class=\"dataframe\">\n",
       "  <thead>\n",
       "    <tr style=\"text-align: right;\">\n",
       "      <th></th>\n",
       "      <th>Episode name</th>\n",
       "      <th>Act</th>\n",
       "      <th>Chapter</th>\n",
       "      <th>Segment</th>\n",
       "      <th>Start Time (seconds)</th>\n",
       "      <th>End Time (seconds)</th>\n",
       "    </tr>\n",
       "  </thead>\n",
       "  <tbody>\n",
       "    <tr>\n",
       "      <th>0</th>\n",
       "      <td>1</td>\n",
       "      <td>Aparte eilanden</td>\n",
       "      <td>Introductie</td>\n",
       "      <td>Uitleg programma</td>\n",
       "      <td>0</td>\n",
       "      <td>124</td>\n",
       "    </tr>\n",
       "    <tr>\n",
       "      <th>67</th>\n",
       "      <td>1</td>\n",
       "      <td>Aparte eilanden</td>\n",
       "      <td>Reality</td>\n",
       "      <td>Aankomst</td>\n",
       "      <td>124</td>\n",
       "      <td>350</td>\n",
       "    </tr>\n",
       "    <tr>\n",
       "      <th>132</th>\n",
       "      <td>1</td>\n",
       "      <td>Aparte eilanden</td>\n",
       "      <td>Introductie</td>\n",
       "      <td>Introductie expeditieleden</td>\n",
       "      <td>350</td>\n",
       "      <td>383</td>\n",
       "    </tr>\n",
       "    <tr>\n",
       "      <th>194</th>\n",
       "      <td>1</td>\n",
       "      <td>Aparte eilanden</td>\n",
       "      <td>Introductie</td>\n",
       "      <td>Introductie expeditieleden</td>\n",
       "      <td>383</td>\n",
       "      <td>443</td>\n",
       "    </tr>\n",
       "    <tr>\n",
       "      <th>255</th>\n",
       "      <td>1</td>\n",
       "      <td>Aparte eilanden</td>\n",
       "      <td>Introductie</td>\n",
       "      <td>Introductie expeditieleden</td>\n",
       "      <td>443</td>\n",
       "      <td>504</td>\n",
       "    </tr>\n",
       "    <tr>\n",
       "      <th>...</th>\n",
       "      <td>...</td>\n",
       "      <td>...</td>\n",
       "      <td>...</td>\n",
       "      <td>...</td>\n",
       "      <td>...</td>\n",
       "      <td>...</td>\n",
       "    </tr>\n",
       "    <tr>\n",
       "      <th>17624</th>\n",
       "      <td>17</td>\n",
       "      <td>Finale</td>\n",
       "      <td>Idents</td>\n",
       "      <td>Up next</td>\n",
       "      <td>2818</td>\n",
       "      <td>2838</td>\n",
       "    </tr>\n",
       "    <tr>\n",
       "      <th>17626</th>\n",
       "      <td>17</td>\n",
       "      <td>Finale</td>\n",
       "      <td>Finale</td>\n",
       "      <td>Interview</td>\n",
       "      <td>2838</td>\n",
       "      <td>3065</td>\n",
       "    </tr>\n",
       "    <tr>\n",
       "      <th>17631</th>\n",
       "      <td>17</td>\n",
       "      <td>Finale</td>\n",
       "      <td>Finale</td>\n",
       "      <td>Uitvoering finaleproef</td>\n",
       "      <td>3065</td>\n",
       "      <td>3603</td>\n",
       "    </tr>\n",
       "    <tr>\n",
       "      <th>17641</th>\n",
       "      <td>17</td>\n",
       "      <td>Finale</td>\n",
       "      <td>Finale</td>\n",
       "      <td>Uitslag finaleproef</td>\n",
       "      <td>3603</td>\n",
       "      <td>3678</td>\n",
       "    </tr>\n",
       "    <tr>\n",
       "      <th>17643</th>\n",
       "      <td>17</td>\n",
       "      <td>Finale</td>\n",
       "      <td>Finale</td>\n",
       "      <td>Interview</td>\n",
       "      <td>3678</td>\n",
       "      <td>3967</td>\n",
       "    </tr>\n",
       "  </tbody>\n",
       "</table>\n",
       "<p>589 rows × 6 columns</p>\n",
       "</div>"
      ],
      "text/plain": [
       "       Episode name              Act      Chapter                     Segment  \\\n",
       "0                 1  Aparte eilanden  Introductie            Uitleg programma   \n",
       "67                1  Aparte eilanden      Reality                    Aankomst   \n",
       "132               1  Aparte eilanden  Introductie  Introductie expeditieleden   \n",
       "194               1  Aparte eilanden  Introductie  Introductie expeditieleden   \n",
       "255               1  Aparte eilanden  Introductie  Introductie expeditieleden   \n",
       "...             ...              ...          ...                         ...   \n",
       "17624            17           Finale       Idents                     Up next   \n",
       "17626            17           Finale       Finale                   Interview   \n",
       "17631            17           Finale       Finale      Uitvoering finaleproef   \n",
       "17641            17           Finale       Finale         Uitslag finaleproef   \n",
       "17643            17           Finale       Finale                   Interview   \n",
       "\n",
       "       Start Time (seconds)  End Time (seconds)  \n",
       "0                         0                 124  \n",
       "67                      124                 350  \n",
       "132                     350                 383  \n",
       "194                     383                 443  \n",
       "255                     443                 504  \n",
       "...                     ...                 ...  \n",
       "17624                  2818                2838  \n",
       "17626                  2838                3065  \n",
       "17631                  3065                3603  \n",
       "17641                  3603                3678  \n",
       "17643                  3678                3967  \n",
       "\n",
       "[589 rows x 6 columns]"
      ]
     },
     "execution_count": 32,
     "metadata": {},
     "output_type": "execute_result"
    }
   ],
   "source": [
    "df_ep = pd.read_csv(\"client_data/Expiditie_Robinson_Data/Robinson22_structure.csv\")\n",
    "\n",
    "# Keep only the specified columns\n",
    "columns_to_keep = ['Episode name', 'Act', 'Chapter', 'Segment', 'Start Time (seconds)', 'End Time (seconds)']\n",
    "df_filtered = df_ep[columns_to_keep]\n",
    "\n",
    "# Drop duplicate rows in the dataframe\n",
    "df_filtered = df_filtered.drop_duplicates()\n",
    "\n",
    "df_filtered"
   ]
  },
  {
   "cell_type": "code",
   "execution_count": 33,
   "metadata": {},
   "outputs": [],
   "source": [
    "# Find unique episode names to create separate dataframes for each\n",
    "unique_episodes = df_filtered['Episode name'].unique()\n",
    "\n",
    "# Dictionary to hold each episode dataframe\n",
    "episode_dfs = {}\n",
    "\n",
    "for episode in unique_episodes:\n",
    "    # Filter dataframe for each unique episode and store it in the dictionary\n",
    "    episode_dfs[f'df_ep_{episode}'] = df_filtered[df_filtered['Episode name'] == episode]"
   ]
  },
  {
   "cell_type": "code",
   "execution_count": 34,
   "metadata": {},
   "outputs": [],
   "source": [
    "# Access a specific episode dataframe with episode_dfs['df_ep_1'], episode_dfs['df_ep_2'], etc.\n",
    "episode_dfs['df_ep_1'] = episode_dfs['df_ep_1'].reset_index(drop=True)"
   ]
  },
  {
   "cell_type": "markdown",
   "metadata": {},
   "source": [
    "## Fixing the problem with End Time column (present in episodes 2-13)"
   ]
  },
  {
   "cell_type": "code",
   "execution_count": 35,
   "metadata": {},
   "outputs": [
    {
     "name": "stdout",
     "output_type": "stream",
     "text": [
      "Corrected df_ep_2\n",
      "Corrected df_ep_3\n",
      "Corrected df_ep_4\n",
      "Corrected df_ep_5\n",
      "Corrected df_ep_6\n",
      "Corrected df_ep_7\n",
      "Corrected df_ep_8\n",
      "Corrected df_ep_9\n",
      "Corrected df_ep_10\n",
      "Corrected df_ep_11\n",
      "Corrected df_ep_12\n",
      "Corrected df_ep_13\n"
     ]
    }
   ],
   "source": [
    "# Loop through episode numbers 2 to 13\n",
    "for episode_num in range(2, 14):  # This will include episodes 2 to 13\n",
    "    df = episode_dfs[f'df_ep_{episode_num}']  # Access the dataframe for the current episode\n",
    "    \n",
    "    # Ensure the dataframe index is reset to avoid KeyErrors\n",
    "    df.reset_index(drop=True, inplace=True)\n",
    "    \n",
    "    # Loop through the dataframe rows except for the last one\n",
    "    for i in range(len(df) - 1):\n",
    "        # Update the end time of the current row to the start time of the next row using iloc\n",
    "        df.iloc[i, df.columns.get_loc('End Time (seconds)')] = df.iloc[i + 1, df.columns.get_loc('Start Time (seconds)')]\n",
    "    \n",
    "    # Update the episode dataframe in episode_dfs dictionary\n",
    "    episode_dfs[f'df_ep_{episode_num}'] = df\n",
    "\n",
    "    print(f\"Corrected df_ep_{episode_num}\")\n"
   ]
  },
  {
   "cell_type": "markdown",
   "metadata": {},
   "source": [
    "## Converting the .mov files into .mp3 files"
   ]
  },
  {
   "cell_type": "code",
   "execution_count": 26,
   "metadata": {},
   "outputs": [],
   "source": [
    "# Define the source and destination directories\n",
    "source_dir = 'client_data/Expiditie_Robinson_Episodes'\n",
    "dest_dir = 'client_data/Expiditie_Robinson_Episodes_audio_mp3'\n",
    "\n",
    "# Make sure the destination folder exists, if not, create it\n",
    "os.makedirs(dest_dir, exist_ok=True)"
   ]
  },
  {
   "cell_type": "code",
   "execution_count": 15,
   "metadata": {},
   "outputs": [
    {
     "name": "stdout",
     "output_type": "stream",
     "text": [
      "MoviePy - Writing audio in client_data/Expiditie_Robinson_Episodes_audio_mp3\\ER22_1.mp3\n"
     ]
    },
    {
     "name": "stderr",
     "output_type": "stream",
     "text": [
      "                                                                        \r"
     ]
    },
    {
     "name": "stdout",
     "output_type": "stream",
     "text": [
      "MoviePy - Done.\n",
      "Converted and saved: ER22_1.mp3\n",
      "MoviePy - Writing audio in client_data/Expiditie_Robinson_Episodes_audio_mp3\\ER22_2.mp3\n"
     ]
    },
    {
     "name": "stderr",
     "output_type": "stream",
     "text": [
      "                                                                        \r"
     ]
    },
    {
     "name": "stdout",
     "output_type": "stream",
     "text": [
      "MoviePy - Done.\n",
      "Converted and saved: ER22_2.mp3\n",
      "MoviePy - Writing audio in client_data/Expiditie_Robinson_Episodes_audio_mp3\\ER22_3.mp3\n"
     ]
    },
    {
     "name": "stderr",
     "output_type": "stream",
     "text": [
      "                                                                        \r"
     ]
    },
    {
     "name": "stdout",
     "output_type": "stream",
     "text": [
      "MoviePy - Done.\n",
      "Converted and saved: ER22_3.mp3\n",
      "MoviePy - Writing audio in client_data/Expiditie_Robinson_Episodes_audio_mp3\\ER22_4.mp3\n"
     ]
    },
    {
     "name": "stderr",
     "output_type": "stream",
     "text": [
      "                                                                        \r"
     ]
    },
    {
     "name": "stdout",
     "output_type": "stream",
     "text": [
      "MoviePy - Done.\n",
      "Converted and saved: ER22_4.mp3\n",
      "MoviePy - Writing audio in client_data/Expiditie_Robinson_Episodes_audio_mp3\\ER22_5.mp3\n"
     ]
    },
    {
     "name": "stderr",
     "output_type": "stream",
     "text": [
      "                                                                        \r"
     ]
    },
    {
     "name": "stdout",
     "output_type": "stream",
     "text": [
      "MoviePy - Done.\n",
      "Converted and saved: ER22_5.mp3\n",
      "MoviePy - Writing audio in client_data/Expiditie_Robinson_Episodes_audio_mp3\\ER22_6.mp3\n"
     ]
    },
    {
     "name": "stderr",
     "output_type": "stream",
     "text": [
      "                                                                        \r"
     ]
    },
    {
     "name": "stdout",
     "output_type": "stream",
     "text": [
      "MoviePy - Done.\n",
      "Converted and saved: ER22_6.mp3\n",
      "MoviePy - Writing audio in client_data/Expiditie_Robinson_Episodes_audio_mp3\\ER22_7.mp3\n"
     ]
    },
    {
     "name": "stderr",
     "output_type": "stream",
     "text": [
      "                                                                        \r"
     ]
    },
    {
     "name": "stdout",
     "output_type": "stream",
     "text": [
      "MoviePy - Done.\n",
      "Converted and saved: ER22_7.mp3\n",
      "MoviePy - Writing audio in client_data/Expiditie_Robinson_Episodes_audio_mp3\\ER22_8.mp3\n"
     ]
    },
    {
     "name": "stderr",
     "output_type": "stream",
     "text": [
      "                                                                        \r"
     ]
    },
    {
     "name": "stdout",
     "output_type": "stream",
     "text": [
      "MoviePy - Done.\n",
      "Converted and saved: ER22_8.mp3\n",
      "MoviePy - Writing audio in client_data/Expiditie_Robinson_Episodes_audio_mp3\\ER22_9.mp3\n"
     ]
    },
    {
     "name": "stderr",
     "output_type": "stream",
     "text": [
      "                                                                        \r"
     ]
    },
    {
     "name": "stdout",
     "output_type": "stream",
     "text": [
      "MoviePy - Done.\n",
      "Converted and saved: ER22_9.mp3\n",
      "MoviePy - Writing audio in client_data/Expiditie_Robinson_Episodes_audio_mp3\\ER22_10.mp3\n"
     ]
    },
    {
     "name": "stderr",
     "output_type": "stream",
     "text": [
      "                                                                        \r"
     ]
    },
    {
     "name": "stdout",
     "output_type": "stream",
     "text": [
      "MoviePy - Done.\n",
      "Converted and saved: ER22_10.mp3\n",
      "MoviePy - Writing audio in client_data/Expiditie_Robinson_Episodes_audio_mp3\\ER22_11.mp3\n"
     ]
    },
    {
     "name": "stderr",
     "output_type": "stream",
     "text": [
      "                                                                        \r"
     ]
    },
    {
     "name": "stdout",
     "output_type": "stream",
     "text": [
      "MoviePy - Done.\n",
      "Converted and saved: ER22_11.mp3\n",
      "MoviePy - Writing audio in client_data/Expiditie_Robinson_Episodes_audio_mp3\\ER22_12.mp3\n"
     ]
    },
    {
     "name": "stderr",
     "output_type": "stream",
     "text": [
      "                                                                        \r"
     ]
    },
    {
     "name": "stdout",
     "output_type": "stream",
     "text": [
      "MoviePy - Done.\n",
      "Converted and saved: ER22_12.mp3\n",
      "MoviePy - Writing audio in client_data/Expiditie_Robinson_Episodes_audio_mp3\\ER22_13.mp3\n"
     ]
    },
    {
     "name": "stderr",
     "output_type": "stream",
     "text": [
      "                                                                        \r"
     ]
    },
    {
     "name": "stdout",
     "output_type": "stream",
     "text": [
      "MoviePy - Done.\n",
      "Converted and saved: ER22_13.mp3\n",
      "MoviePy - Writing audio in client_data/Expiditie_Robinson_Episodes_audio_mp3\\ER22_14.mp3\n"
     ]
    },
    {
     "name": "stderr",
     "output_type": "stream",
     "text": [
      "                                                                        \r"
     ]
    },
    {
     "name": "stdout",
     "output_type": "stream",
     "text": [
      "MoviePy - Done.\n",
      "Converted and saved: ER22_14.mp3\n",
      "MoviePy - Writing audio in client_data/Expiditie_Robinson_Episodes_audio_mp3\\ER22_15.mp3\n"
     ]
    },
    {
     "name": "stderr",
     "output_type": "stream",
     "text": [
      "                                                                        \r"
     ]
    },
    {
     "name": "stdout",
     "output_type": "stream",
     "text": [
      "MoviePy - Done.\n",
      "Converted and saved: ER22_15.mp3\n",
      "MoviePy - Writing audio in client_data/Expiditie_Robinson_Episodes_audio_mp3\\ER22_16.mp3\n"
     ]
    },
    {
     "name": "stderr",
     "output_type": "stream",
     "text": [
      "                                                                        \r"
     ]
    },
    {
     "name": "stdout",
     "output_type": "stream",
     "text": [
      "MoviePy - Done.\n",
      "Converted and saved: ER22_16.mp3\n",
      "MoviePy - Writing audio in client_data/Expiditie_Robinson_Episodes_audio_mp3\\ER22_17.mp3\n"
     ]
    },
    {
     "name": "stderr",
     "output_type": "stream",
     "text": [
      "                                                                        "
     ]
    },
    {
     "name": "stdout",
     "output_type": "stream",
     "text": [
      "MoviePy - Done.\n",
      "Converted and saved: ER22_17.mp3\n",
      "All files have been converted.\n"
     ]
    },
    {
     "name": "stderr",
     "output_type": "stream",
     "text": [
      "\r"
     ]
    }
   ],
   "source": [
    "# Loop through each .mov file in the source directory\n",
    "for episode_number in range(1, 18):  # Assuming episodes 1 through 17\n",
    "    source_filename = f'ER22_AFL{episode_number:02d}_MXF.mov'\n",
    "    source_path = os.path.join(source_dir, source_filename)\n",
    "    \n",
    "    # Define the destination filename and path\n",
    "    dest_filename = f'ER22_{episode_number}.mp3'\n",
    "    dest_path = os.path.join(dest_dir, dest_filename)\n",
    "    \n",
    "    # Load the video file\n",
    "    video = VideoFileClip(source_path)\n",
    "    \n",
    "    # Extract and save the audio as .wav\n",
    "    video.audio.write_audiofile(dest_path)  # codec='pcm_s16le' specifies 16-bit WAV format\n",
    "\n",
    "    print(f'Converted and saved: {dest_filename}')\n",
    "\n",
    "print('All files have been converted.')"
   ]
  },
  {
   "cell_type": "markdown",
   "metadata": {},
   "source": [
    "## Converting the .mov files into .wav files"
   ]
  },
  {
   "cell_type": "code",
   "execution_count": null,
   "metadata": {},
   "outputs": [],
   "source": [
    "# Define the source and destination directories\n",
    "source_dir = 'client_data/Expiditie_Robinson_Episodes'\n",
    "dest_dir = 'client_data/Expiditie_Robinson_Episodes_audio'\n",
    "\n",
    "# Make sure the destination folder exists, if not, create it\n",
    "os.makedirs(dest_dir, exist_ok=True)"
   ]
  },
  {
   "cell_type": "code",
   "execution_count": 30,
   "metadata": {},
   "outputs": [
    {
     "name": "stdout",
     "output_type": "stream",
     "text": [
      "MoviePy - Writing audio in client_data/Expiditie_Robinson_Episodes_audio_fragments\\ER22_17.wav\n"
     ]
    },
    {
     "name": "stderr",
     "output_type": "stream",
     "text": [
      "                                                                        "
     ]
    },
    {
     "name": "stdout",
     "output_type": "stream",
     "text": [
      "MoviePy - Done.\n",
      "Converted and saved: ER22_17.wav\n",
      "All files have been converted.\n"
     ]
    },
    {
     "name": "stderr",
     "output_type": "stream",
     "text": [
      "\r"
     ]
    }
   ],
   "source": [
    "# Loop through each .mov file in the source directory\n",
    "for episode_number in range(17, 18):  # Assuming episodes 1 through 17\n",
    "    source_filename = f'ER22_AFL{episode_number:02d}_MXF.mov'\n",
    "    source_path = os.path.join(source_dir, source_filename)\n",
    "    \n",
    "    # Define the destination filename and path\n",
    "    dest_filename = f'ER22_{episode_number}.wav'\n",
    "    dest_path = os.path.join(dest_dir, dest_filename)\n",
    "    \n",
    "    # Load the video file\n",
    "    video = VideoFileClip(source_path)\n",
    "    \n",
    "    # Extract and save the audio as .wav\n",
    "    video.audio.write_audiofile(dest_path, codec='pcm_s16le')  # codec='pcm_s16le' specifies 16-bit WAV format\n",
    "\n",
    "    print(f'Converted and saved: {dest_filename}')\n",
    "\n",
    "print('All files have been converted.')"
   ]
  },
  {
   "cell_type": "markdown",
   "metadata": {},
   "source": [
    "## Separating the audio into fragments (mp3)"
   ]
  },
  {
   "cell_type": "code",
   "execution_count": 36,
   "metadata": {},
   "outputs": [],
   "source": [
    "def fragment_episode_audio_mp3(episode_number):\n",
    "    # Assuming episode_dfs is a dictionary containing dataframes for each episode\n",
    "    df = episode_dfs.get(f'df_ep_{episode_number}')\n",
    "\n",
    "    if df is None:\n",
    "        print(f\"No data found for episode {episode_number}.\")\n",
    "        return\n",
    "\n",
    "    # Reset the index of the dataframe\n",
    "    df = df.reset_index(drop=True)\n",
    "\n",
    "    # Define the path to the source audio file based on the episode number\n",
    "    source_audio_path = f'client_data/Expiditie_Robinson_Episodes_audio_mp3/ER22_{episode_number}.mp3'\n",
    "\n",
    "    # Load the entire episode audio file\n",
    "    episode_audio = AudioSegment.from_mp3(source_audio_path)\n",
    "\n",
    "    # Define the destination directory for audio fragments\n",
    "    dest_dir = 'client_data/Expiditie_Robinson_Episodes_audio_fragments_mp3'\n",
    "\n",
    "    # Create the destination directory if it doesn't already exist\n",
    "    if not os.path.exists(dest_dir):\n",
    "        os.makedirs(dest_dir)\n",
    "\n",
    "    # Loop through each row in the dataframe to extract and save fragments\n",
    "    for index, row in df.iterrows():\n",
    "        # Calculate start and end times in milliseconds\n",
    "        start_time = row['Start Time (seconds)'] * 1000\n",
    "        end_time = row['End Time (seconds)'] * 1000\n",
    "\n",
    "        # Extract the fragment\n",
    "        fragment = episode_audio[start_time:end_time]\n",
    "\n",
    "        # Define the destination filename\n",
    "        dest_filename = f\"ER22_ep{episode_number}_fra_{index + 1}.mp3\"\n",
    "        dest_path = os.path.join(dest_dir, dest_filename)\n",
    "\n",
    "        # Save the fragment\n",
    "        fragment.export(dest_path, format=\"mp3\")\n",
    "\n",
    "        print(f'Saved: {dest_filename}')\n",
    "\n",
    "    print('\\nAll fragments have been processed and saved.')\n"
   ]
  },
  {
   "cell_type": "code",
   "execution_count": 29,
   "metadata": {},
   "outputs": [],
   "source": [
    "\n",
    "def fragment_episode_audio_mp3(episode_number):\n",
    "    # Assuming episode_dfs is a dictionary containing dataframes for each episode\n",
    "    df = episode_dfs.get(f'df_ep_{episode_number}')\n",
    "\n",
    "    if df is None:\n",
    "        print(f\"No data found for episode {episode_number}.\")\n",
    "        return\n",
    "\n",
    "    # Reset the index of the dataframe\n",
    "    df = df.reset_index(drop=True)\n",
    "\n",
    "    # Define the path to the source audio file based on the episode number\n",
    "    source_audio_path = f'client_data/Expiditie_Robinson_Episodes_audio_mp3/ER22_{episode_number}.mp3'\n",
    "\n",
    "    # Load the entire episode audio file\n",
    "    episode_audio = AudioSegment.from_mp3(source_audio_path)\n",
    "\n",
    "    # Define the destination directory for audio fragments\n",
    "    dest_dir = 'client_data/Expiditie_Robinson_Episodes_audio_fragments_mp3'\n",
    "\n",
    "    # Create the destination directory if it doesn't already exist\n",
    "    if not os.path.exists(dest_dir):\n",
    "        os.makedirs(dest_dir)\n",
    "\n",
    "    # Loop through each row in the dataframe to extract and save fragments\n",
    "    for index, row in df.iterrows():\n",
    "        # Calculate start and end times in milliseconds\n",
    "        start_time = row['Start Time (seconds)'] * 1000\n",
    "        end_time = row['End Time (seconds)'] * 1000\n",
    "\n",
    "        # Extract the fragment\n",
    "        fragment = episode_audio[start_time:end_time]\n",
    "\n",
    "        # Define the destination filename\n",
    "        dest_filename = f\"ER22_ep{episode_number}_fra_{index + 1}.mp3\"\n",
    "        dest_path = os.path.join(dest_dir, dest_filename)\n",
    "\n",
    "        # Save the fragment\n",
    "        fragment.export(dest_path, format=\"mp3\")\n",
    "\n",
    "        print(f'Saved: {dest_filename}')\n",
    "\n",
    "    print('\\nAll fragments have been processed and saved.')\n"
   ]
  },
  {
   "cell_type": "code",
   "execution_count": 37,
   "metadata": {},
   "outputs": [
    {
     "name": "stdout",
     "output_type": "stream",
     "text": [
      "Saved: ER22_ep10_fra_1.mp3\n",
      "Saved: ER22_ep10_fra_2.mp3\n",
      "Saved: ER22_ep10_fra_3.mp3\n",
      "Saved: ER22_ep10_fra_4.mp3\n",
      "Saved: ER22_ep10_fra_5.mp3\n",
      "Saved: ER22_ep10_fra_6.mp3\n",
      "Saved: ER22_ep10_fra_7.mp3\n",
      "Saved: ER22_ep10_fra_8.mp3\n",
      "Saved: ER22_ep10_fra_9.mp3\n",
      "Saved: ER22_ep10_fra_10.mp3\n",
      "Saved: ER22_ep10_fra_11.mp3\n",
      "Saved: ER22_ep10_fra_12.mp3\n",
      "Saved: ER22_ep10_fra_13.mp3\n",
      "Saved: ER22_ep10_fra_14.mp3\n",
      "Saved: ER22_ep10_fra_15.mp3\n",
      "Saved: ER22_ep10_fra_16.mp3\n",
      "Saved: ER22_ep10_fra_17.mp3\n",
      "Saved: ER22_ep10_fra_18.mp3\n",
      "Saved: ER22_ep10_fra_19.mp3\n",
      "Saved: ER22_ep10_fra_20.mp3\n",
      "Saved: ER22_ep10_fra_21.mp3\n",
      "Saved: ER22_ep10_fra_22.mp3\n",
      "Saved: ER22_ep10_fra_23.mp3\n",
      "Saved: ER22_ep10_fra_24.mp3\n",
      "Saved: ER22_ep10_fra_25.mp3\n",
      "Saved: ER22_ep10_fra_26.mp3\n",
      "Saved: ER22_ep10_fra_27.mp3\n",
      "Saved: ER22_ep10_fra_28.mp3\n",
      "Saved: ER22_ep10_fra_29.mp3\n",
      "Saved: ER22_ep10_fra_30.mp3\n",
      "\n",
      "All fragments have been processed and saved.\n",
      "Saved: ER22_ep11_fra_1.mp3\n",
      "Saved: ER22_ep11_fra_2.mp3\n",
      "Saved: ER22_ep11_fra_3.mp3\n",
      "Saved: ER22_ep11_fra_4.mp3\n",
      "Saved: ER22_ep11_fra_5.mp3\n",
      "Saved: ER22_ep11_fra_6.mp3\n",
      "Saved: ER22_ep11_fra_7.mp3\n",
      "Saved: ER22_ep11_fra_8.mp3\n",
      "Saved: ER22_ep11_fra_9.mp3\n",
      "Saved: ER22_ep11_fra_10.mp3\n",
      "Saved: ER22_ep11_fra_11.mp3\n",
      "Saved: ER22_ep11_fra_12.mp3\n",
      "Saved: ER22_ep11_fra_13.mp3\n",
      "Saved: ER22_ep11_fra_14.mp3\n",
      "Saved: ER22_ep11_fra_15.mp3\n",
      "Saved: ER22_ep11_fra_16.mp3\n",
      "Saved: ER22_ep11_fra_17.mp3\n",
      "Saved: ER22_ep11_fra_18.mp3\n",
      "Saved: ER22_ep11_fra_19.mp3\n",
      "Saved: ER22_ep11_fra_20.mp3\n",
      "Saved: ER22_ep11_fra_21.mp3\n",
      "Saved: ER22_ep11_fra_22.mp3\n",
      "Saved: ER22_ep11_fra_23.mp3\n",
      "Saved: ER22_ep11_fra_24.mp3\n",
      "Saved: ER22_ep11_fra_25.mp3\n",
      "Saved: ER22_ep11_fra_26.mp3\n",
      "Saved: ER22_ep11_fra_27.mp3\n",
      "Saved: ER22_ep11_fra_28.mp3\n",
      "Saved: ER22_ep11_fra_29.mp3\n",
      "Saved: ER22_ep11_fra_30.mp3\n",
      "Saved: ER22_ep11_fra_31.mp3\n",
      "Saved: ER22_ep11_fra_32.mp3\n",
      "\n",
      "All fragments have been processed and saved.\n",
      "Saved: ER22_ep12_fra_1.mp3\n",
      "Saved: ER22_ep12_fra_2.mp3\n",
      "Saved: ER22_ep12_fra_3.mp3\n",
      "Saved: ER22_ep12_fra_4.mp3\n",
      "Saved: ER22_ep12_fra_5.mp3\n",
      "Saved: ER22_ep12_fra_6.mp3\n",
      "Saved: ER22_ep12_fra_7.mp3\n",
      "Saved: ER22_ep12_fra_8.mp3\n",
      "Saved: ER22_ep12_fra_9.mp3\n",
      "Saved: ER22_ep12_fra_10.mp3\n",
      "Saved: ER22_ep12_fra_11.mp3\n",
      "Saved: ER22_ep12_fra_12.mp3\n",
      "Saved: ER22_ep12_fra_13.mp3\n",
      "Saved: ER22_ep12_fra_14.mp3\n",
      "Saved: ER22_ep12_fra_15.mp3\n",
      "Saved: ER22_ep12_fra_16.mp3\n",
      "Saved: ER22_ep12_fra_17.mp3\n",
      "Saved: ER22_ep12_fra_18.mp3\n",
      "Saved: ER22_ep12_fra_19.mp3\n",
      "Saved: ER22_ep12_fra_20.mp3\n",
      "Saved: ER22_ep12_fra_21.mp3\n",
      "Saved: ER22_ep12_fra_22.mp3\n",
      "Saved: ER22_ep12_fra_23.mp3\n",
      "Saved: ER22_ep12_fra_24.mp3\n",
      "Saved: ER22_ep12_fra_25.mp3\n",
      "Saved: ER22_ep12_fra_26.mp3\n",
      "Saved: ER22_ep12_fra_27.mp3\n",
      "Saved: ER22_ep12_fra_28.mp3\n",
      "Saved: ER22_ep12_fra_29.mp3\n",
      "Saved: ER22_ep12_fra_30.mp3\n",
      "Saved: ER22_ep12_fra_31.mp3\n",
      "Saved: ER22_ep12_fra_32.mp3\n",
      "Saved: ER22_ep12_fra_33.mp3\n",
      "Saved: ER22_ep12_fra_34.mp3\n",
      "\n",
      "All fragments have been processed and saved.\n",
      "Saved: ER22_ep13_fra_1.mp3\n",
      "Saved: ER22_ep13_fra_2.mp3\n",
      "Saved: ER22_ep13_fra_3.mp3\n",
      "Saved: ER22_ep13_fra_4.mp3\n",
      "Saved: ER22_ep13_fra_5.mp3\n",
      "Saved: ER22_ep13_fra_6.mp3\n",
      "Saved: ER22_ep13_fra_7.mp3\n",
      "Saved: ER22_ep13_fra_8.mp3\n",
      "Saved: ER22_ep13_fra_9.mp3\n",
      "Saved: ER22_ep13_fra_10.mp3\n",
      "Saved: ER22_ep13_fra_11.mp3\n",
      "Saved: ER22_ep13_fra_12.mp3\n",
      "Saved: ER22_ep13_fra_13.mp3\n",
      "Saved: ER22_ep13_fra_14.mp3\n",
      "Saved: ER22_ep13_fra_15.mp3\n",
      "Saved: ER22_ep13_fra_16.mp3\n",
      "Saved: ER22_ep13_fra_17.mp3\n",
      "Saved: ER22_ep13_fra_18.mp3\n",
      "Saved: ER22_ep13_fra_19.mp3\n",
      "Saved: ER22_ep13_fra_20.mp3\n",
      "Saved: ER22_ep13_fra_21.mp3\n",
      "Saved: ER22_ep13_fra_22.mp3\n",
      "Saved: ER22_ep13_fra_23.mp3\n",
      "Saved: ER22_ep13_fra_24.mp3\n",
      "Saved: ER22_ep13_fra_25.mp3\n",
      "Saved: ER22_ep13_fra_26.mp3\n",
      "Saved: ER22_ep13_fra_27.mp3\n",
      "Saved: ER22_ep13_fra_28.mp3\n",
      "\n",
      "All fragments have been processed and saved.\n",
      "Saved: ER22_ep14_fra_1.mp3\n",
      "Saved: ER22_ep14_fra_2.mp3\n",
      "Saved: ER22_ep14_fra_3.mp3\n",
      "Saved: ER22_ep14_fra_4.mp3\n",
      "Saved: ER22_ep14_fra_5.mp3\n",
      "Saved: ER22_ep14_fra_6.mp3\n",
      "Saved: ER22_ep14_fra_7.mp3\n",
      "Saved: ER22_ep14_fra_8.mp3\n",
      "Saved: ER22_ep14_fra_9.mp3\n",
      "Saved: ER22_ep14_fra_10.mp3\n",
      "Saved: ER22_ep14_fra_11.mp3\n",
      "Saved: ER22_ep14_fra_12.mp3\n",
      "Saved: ER22_ep14_fra_13.mp3\n",
      "Saved: ER22_ep14_fra_14.mp3\n",
      "Saved: ER22_ep14_fra_15.mp3\n",
      "Saved: ER22_ep14_fra_16.mp3\n",
      "Saved: ER22_ep14_fra_17.mp3\n",
      "Saved: ER22_ep14_fra_18.mp3\n",
      "Saved: ER22_ep14_fra_19.mp3\n",
      "Saved: ER22_ep14_fra_20.mp3\n",
      "Saved: ER22_ep14_fra_21.mp3\n",
      "Saved: ER22_ep14_fra_22.mp3\n",
      "Saved: ER22_ep14_fra_23.mp3\n",
      "Saved: ER22_ep14_fra_24.mp3\n",
      "Saved: ER22_ep14_fra_25.mp3\n",
      "Saved: ER22_ep14_fra_26.mp3\n",
      "Saved: ER22_ep14_fra_27.mp3\n",
      "Saved: ER22_ep14_fra_28.mp3\n",
      "Saved: ER22_ep14_fra_29.mp3\n",
      "Saved: ER22_ep14_fra_30.mp3\n",
      "Saved: ER22_ep14_fra_31.mp3\n",
      "Saved: ER22_ep14_fra_32.mp3\n",
      "Saved: ER22_ep14_fra_33.mp3\n",
      "Saved: ER22_ep14_fra_34.mp3\n",
      "Saved: ER22_ep14_fra_35.mp3\n",
      "\n",
      "All fragments have been processed and saved.\n",
      "Saved: ER22_ep15_fra_1.mp3\n",
      "Saved: ER22_ep15_fra_2.mp3\n",
      "Saved: ER22_ep15_fra_3.mp3\n",
      "Saved: ER22_ep15_fra_4.mp3\n",
      "Saved: ER22_ep15_fra_5.mp3\n",
      "Saved: ER22_ep15_fra_6.mp3\n",
      "Saved: ER22_ep15_fra_7.mp3\n",
      "Saved: ER22_ep15_fra_8.mp3\n",
      "Saved: ER22_ep15_fra_9.mp3\n",
      "Saved: ER22_ep15_fra_10.mp3\n",
      "Saved: ER22_ep15_fra_11.mp3\n",
      "Saved: ER22_ep15_fra_12.mp3\n",
      "Saved: ER22_ep15_fra_13.mp3\n",
      "Saved: ER22_ep15_fra_14.mp3\n",
      "Saved: ER22_ep15_fra_15.mp3\n",
      "Saved: ER22_ep15_fra_16.mp3\n",
      "Saved: ER22_ep15_fra_17.mp3\n",
      "Saved: ER22_ep15_fra_18.mp3\n",
      "Saved: ER22_ep15_fra_19.mp3\n",
      "Saved: ER22_ep15_fra_20.mp3\n",
      "Saved: ER22_ep15_fra_21.mp3\n",
      "Saved: ER22_ep15_fra_22.mp3\n",
      "Saved: ER22_ep15_fra_23.mp3\n",
      "Saved: ER22_ep15_fra_24.mp3\n",
      "Saved: ER22_ep15_fra_25.mp3\n",
      "Saved: ER22_ep15_fra_26.mp3\n",
      "Saved: ER22_ep15_fra_27.mp3\n",
      "Saved: ER22_ep15_fra_28.mp3\n",
      "Saved: ER22_ep15_fra_29.mp3\n",
      "Saved: ER22_ep15_fra_30.mp3\n",
      "Saved: ER22_ep15_fra_31.mp3\n",
      "Saved: ER22_ep15_fra_32.mp3\n",
      "Saved: ER22_ep15_fra_33.mp3\n",
      "Saved: ER22_ep15_fra_34.mp3\n",
      "\n",
      "All fragments have been processed and saved.\n",
      "Saved: ER22_ep16_fra_1.mp3\n",
      "Saved: ER22_ep16_fra_2.mp3\n",
      "Saved: ER22_ep16_fra_3.mp3\n",
      "Saved: ER22_ep16_fra_4.mp3\n",
      "Saved: ER22_ep16_fra_5.mp3\n",
      "Saved: ER22_ep16_fra_6.mp3\n",
      "Saved: ER22_ep16_fra_7.mp3\n",
      "Saved: ER22_ep16_fra_8.mp3\n",
      "Saved: ER22_ep16_fra_9.mp3\n",
      "Saved: ER22_ep16_fra_10.mp3\n",
      "Saved: ER22_ep16_fra_11.mp3\n",
      "Saved: ER22_ep16_fra_12.mp3\n",
      "Saved: ER22_ep16_fra_13.mp3\n",
      "Saved: ER22_ep16_fra_14.mp3\n",
      "Saved: ER22_ep16_fra_15.mp3\n",
      "Saved: ER22_ep16_fra_16.mp3\n",
      "Saved: ER22_ep16_fra_17.mp3\n",
      "Saved: ER22_ep16_fra_18.mp3\n",
      "Saved: ER22_ep16_fra_19.mp3\n",
      "Saved: ER22_ep16_fra_20.mp3\n",
      "Saved: ER22_ep16_fra_21.mp3\n",
      "Saved: ER22_ep16_fra_22.mp3\n",
      "Saved: ER22_ep16_fra_23.mp3\n",
      "Saved: ER22_ep16_fra_24.mp3\n",
      "Saved: ER22_ep16_fra_25.mp3\n",
      "Saved: ER22_ep16_fra_26.mp3\n",
      "Saved: ER22_ep16_fra_27.mp3\n",
      "Saved: ER22_ep16_fra_28.mp3\n",
      "Saved: ER22_ep16_fra_29.mp3\n",
      "Saved: ER22_ep16_fra_30.mp3\n",
      "Saved: ER22_ep16_fra_31.mp3\n",
      "Saved: ER22_ep16_fra_32.mp3\n",
      "\n",
      "All fragments have been processed and saved.\n",
      "Saved: ER22_ep17_fra_1.mp3\n",
      "Saved: ER22_ep17_fra_2.mp3\n",
      "Saved: ER22_ep17_fra_3.mp3\n",
      "Saved: ER22_ep17_fra_4.mp3\n",
      "Saved: ER22_ep17_fra_5.mp3\n",
      "Saved: ER22_ep17_fra_6.mp3\n",
      "Saved: ER22_ep17_fra_7.mp3\n",
      "Saved: ER22_ep17_fra_8.mp3\n",
      "Saved: ER22_ep17_fra_9.mp3\n",
      "Saved: ER22_ep17_fra_10.mp3\n",
      "Saved: ER22_ep17_fra_11.mp3\n",
      "Saved: ER22_ep17_fra_12.mp3\n",
      "Saved: ER22_ep17_fra_13.mp3\n",
      "Saved: ER22_ep17_fra_14.mp3\n",
      "Saved: ER22_ep17_fra_15.mp3\n",
      "Saved: ER22_ep17_fra_16.mp3\n",
      "Saved: ER22_ep17_fra_17.mp3\n",
      "Saved: ER22_ep17_fra_18.mp3\n",
      "\n",
      "All fragments have been processed and saved.\n"
     ]
    }
   ],
   "source": [
    "for ep in range(1, 18):\n",
    "    fragment_episode_audio(ep)"
   ]
  },
  {
   "cell_type": "markdown",
   "metadata": {},
   "source": [
    "## Separating the audio into fragments (wav)"
   ]
  },
  {
   "cell_type": "code",
   "execution_count": null,
   "metadata": {},
   "outputs": [],
   "source": [
    "# Function to process and fragment an episode's audio\n",
    "def fragment_episode_audio(episode_number):\n",
    "    # Assuming episode_dfs is a dictionary containing dataframes for each episode\n",
    "    df = episode_dfs[f'df_ep_{episode_number}']\n",
    "\n",
    "    # Reset the index of the dataframe\n",
    "    df = df.reset_index(drop=True)\n",
    "\n",
    "    # Define the path to the source audio file based on the episode number\n",
    "    source_audio_path = f'client_data/Expiditie_Robinson_Episodes_audio/ER22_{episode_number}.wav'\n",
    "\n",
    "    # Load the entire episode audio file\n",
    "    episode_audio = AudioSegment.from_wav(source_audio_path)\n",
    "\n",
    "    # Define the destination directory for audio fragments\n",
    "    dest_dir = 'client_data/Expiditie_Robinson_Episodes_audio_fragments'\n",
    "\n",
    "    # Create the destination directory if it doesn't already exist\n",
    "    if not os.path.exists(dest_dir):\n",
    "        os.makedirs(dest_dir)\n",
    "\n",
    "    # Loop through each row in the dataframe to extract and save fragments\n",
    "    for index, row in df.iterrows():\n",
    "        # Calculate start and end times in milliseconds\n",
    "        start_time = row['Start Time (seconds)'] * 1000\n",
    "        end_time = row['End Time (seconds)'] * 1000\n",
    "        \n",
    "        # Extract the fragment\n",
    "        fragment = episode_audio[start_time:end_time]\n",
    "        \n",
    "        # Define the destination filename\n",
    "        dest_filename = f\"ER22_ep{episode_number}_fra_{index + 1}.wav\"\n",
    "        dest_path = os.path.join(dest_dir, dest_filename)\n",
    "        \n",
    "        # Save the fragment\n",
    "        fragment.export(dest_path, format=\"wav\")\n",
    "        \n",
    "        print(f'Saved: {dest_filename}')\n",
    "\n",
    "    print('\\nAll fragments have been processed and saved.')"
   ]
  }
 ],
 "metadata": {
  "kernelspec": {
   "display_name": "tf",
   "language": "python",
   "name": "python3"
  },
  "language_info": {
   "codemirror_mode": {
    "name": "ipython",
    "version": 3
   },
   "file_extension": ".py",
   "mimetype": "text/x-python",
   "name": "python",
   "nbconvert_exporter": "python",
   "pygments_lexer": "ipython3",
   "version": "3.9.18"
  }
 },
 "nbformat": 4,
 "nbformat_minor": 2
}
